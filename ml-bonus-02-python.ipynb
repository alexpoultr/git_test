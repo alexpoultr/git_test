{
  "cells": [
    {
      "cell_type": "markdown",
      "metadata": {
        "id": "g4md55cKD5fb"
      },
      "source": [
        "# Machine Learning Bonus 2 - Python\n"
      ]
    },
    {
      "cell_type": "markdown",
      "metadata": {
        "id": "yAIc6zw_D5fe"
      },
      "source": [
        "You can do the python practice for this lab in what ever IDE you want, but you are encouraged to get familiar with using Jupyter Notebooks, so you can do both at the same time ;)\n",
        "\n",
        "To run code in a cell, just click the cell and hit **SHIFT + ENTER**.\n",
        "\n",
        "Or... Press the **run** button (play icon when you hover the mouse over a cell).\n",
        "\n",
        "Alternatively, to run **all** the cells in the notebook.\n",
        "\n",
        "* In Google Colab: go to the file menu --> **Runtime** --> **Run All**.\n",
        "\n",
        "* In native Jupyter: go to the file menu --> **Cell** --> **Run All**."
      ]
    },
    {
      "cell_type": "markdown",
      "metadata": {
        "ExecuteTime": {
          "end_time": "2020-10-13T10:14:08.187715Z",
          "start_time": "2020-10-13T10:14:08.050918Z"
        },
        "id": "jcdYfQV2D5fe"
      },
      "source": [
        "## Variables\n",
        "\n",
        "You can create more cells within the coding sections by going to the file menu: **Insert** --> **Code Cell**.\n",
        "\n",
        "**PS**: worth noting the keyboard shortcut for doing that."
      ]
    },
    {
      "cell_type": "code",
      "execution_count": null,
      "metadata": {
        "ExecuteTime": {
          "end_time": "2023-09-25T06:04:58.885760Z",
          "start_time": "2023-09-25T06:04:58.877583Z"
        },
        "id": "bQSEO_EWD5fe"
      },
      "outputs": [],
      "source": [
        "a_variable = 10\n",
        "print(\"a_variable =\", a_variable, \"- type\", type(a_variable))\n",
        "\n",
        "# TODO: continue code for variables in this cell, or create a new one (as per the description above)"
      ]
    },
    {
      "cell_type": "code",
      "source": [
        "a_variable = 10\n",
        "b_variable = a_variable + 10\n",
        "print(\"b_variable =\", b_variable, \"- type\", type(b_variable))"
      ],
      "metadata": {
        "id": "pHbDOSReIEi9",
        "outputId": "3a9f9f6e-736e-41b6-f033-8100d8b8dc79",
        "colab": {
          "base_uri": "https://localhost:8080/"
        }
      },
      "execution_count": 3,
      "outputs": [
        {
          "output_type": "stream",
          "name": "stdout",
          "text": [
            "b_variable = 20 - type <class 'int'>\n"
          ]
        }
      ]
    },
    {
      "cell_type": "code",
      "source": [
        "a_variable = 10\n",
        "b_variable = a_variable + 10.0\n",
        "print(\"b_variable =\", b_variable, \"- type\", type(b_variable))"
      ],
      "metadata": {
        "id": "ligZle5eIGp-",
        "outputId": "a573e2de-96f8-4a64-d248-ceea37fef6e1",
        "colab": {
          "base_uri": "https://localhost:8080/"
        }
      },
      "execution_count": 4,
      "outputs": [
        {
          "output_type": "stream",
          "name": "stdout",
          "text": [
            "b_variable = 20.0 - type <class 'float'>\n"
          ]
        }
      ]
    },
    {
      "cell_type": "code",
      "source": [
        "another_variable = a_variable\n",
        "another_variable = 'Machine'\n",
        "print(\"another_variable =\", another_variable, \"- type\", type(another_variable))"
      ],
      "metadata": {
        "colab": {
          "base_uri": "https://localhost:8080/"
        },
        "id": "2JqW97MoI9wF",
        "outputId": "7b8eac2a-d64a-4fa0-debd-29f6054c75be"
      },
      "execution_count": 6,
      "outputs": [
        {
          "output_type": "stream",
          "name": "stdout",
          "text": [
            "another_variable = Machine - type <class 'str'>\n"
          ]
        }
      ]
    },
    {
      "cell_type": "code",
      "source": [
        "another_variable = 'Machine' + ' ' + 'Learning'\n",
        "print(\"another_variable =\", another_variable, \"- type\", type(another_variable))"
      ],
      "metadata": {
        "outputId": "53751bb4-afba-4cfb-bf4a-74d094f561dc",
        "colab": {
          "base_uri": "https://localhost:8080/"
        },
        "id": "jVdOnC6SJbxd"
      },
      "execution_count": 13,
      "outputs": [
        {
          "output_type": "stream",
          "name": "stdout",
          "text": [
            "another_variable = Machine Learning - type <class 'str'>\n"
          ]
        }
      ]
    },
    {
      "cell_type": "code",
      "source": [
        "boolean_variable = True\n",
        "another_boolean_variable = not boolean_variable\n",
        "print(another_boolean_variable)"
      ],
      "metadata": {
        "id": "kssHLgQJMoze",
        "outputId": "e10896a1-1b8e-4a85-daf0-8806c7f7c5db",
        "colab": {
          "base_uri": "https://localhost:8080/"
        }
      },
      "execution_count": 15,
      "outputs": [
        {
          "output_type": "stream",
          "name": "stdout",
          "text": [
            "False\n"
          ]
        }
      ]
    },
    {
      "cell_type": "markdown",
      "metadata": {
        "id": "CeLJubJqD5ff"
      },
      "source": [
        "## Data structures"
      ]
    },
    {
      "cell_type": "code",
      "source": [
        "python_list = []"
      ],
      "metadata": {
        "id": "twVAKe84UHCc"
      },
      "execution_count": null,
      "outputs": []
    },
    {
      "cell_type": "code",
      "source": [
        "import numpy as np\n",
        "NumPyArray = np.array([])"
      ],
      "metadata": {
        "id": "RyiaN2QNUG5r"
      },
      "execution_count": null,
      "outputs": []
    },
    {
      "cell_type": "code",
      "execution_count": 23,
      "metadata": {
        "ExecuteTime": {
          "end_time": "2021-11-23T11:23:22.286072Z",
          "start_time": "2021-11-23T11:23:22.276420Z"
        },
        "id": "i1Q9CPTID5ff",
        "outputId": "43f09eec-3bc3-4598-bc93-d8650f10a025",
        "colab": {
          "base_uri": "https://localhost:8080/"
        }
      },
      "outputs": [
        {
          "output_type": "stream",
          "name": "stdout",
          "text": [
            "2\n"
          ]
        }
      ],
      "source": [
        "pythonList = [1, 2, 3, 4, 5]\n",
        "print(pythonList[1])"
      ]
    },
    {
      "cell_type": "code",
      "source": [
        "import numpy as np\n",
        "numPyArray = np.array([1, 2, 3, 4, 5])\n",
        "print(numPyArray[1])"
      ],
      "metadata": {
        "id": "jT0s9DBfSSc0",
        "outputId": "7fe114f8-23e7-4ce2-f02c-d5e0d34de1d7",
        "colab": {
          "base_uri": "https://localhost:8080/"
        }
      },
      "execution_count": 25,
      "outputs": [
        {
          "output_type": "stream",
          "name": "stdout",
          "text": [
            "2\n"
          ]
        }
      ]
    },
    {
      "cell_type": "markdown",
      "metadata": {
        "ExecuteTime": {
          "end_time": "2021-11-23T11:23:34.931728Z",
          "start_time": "2021-11-23T11:23:34.906671Z"
        },
        "id": "4iFKnnm8D5ff"
      },
      "source": [
        "## Functions"
      ]
    },
    {
      "cell_type": "code",
      "execution_count": null,
      "metadata": {
        "ExecuteTime": {
          "end_time": "2021-11-23T11:39:40.470008Z",
          "start_time": "2021-11-23T11:39:40.457193Z"
        },
        "id": "333elUUHD5fg"
      },
      "outputs": [],
      "source": []
    },
    {
      "cell_type": "markdown",
      "metadata": {
        "ExecuteTime": {
          "end_time": "2021-11-23T11:26:46.304124Z",
          "start_time": "2021-11-23T11:26:46.085705Z"
        },
        "id": "InoZI6rwD5fg"
      },
      "source": [
        "## Looping\n"
      ]
    },
    {
      "cell_type": "code",
      "execution_count": null,
      "metadata": {
        "ExecuteTime": {
          "end_time": "2021-11-23T11:26:48.580082Z",
          "start_time": "2021-11-23T11:26:48.562696Z"
        },
        "id": "9WtbnwToD5fg"
      },
      "outputs": [],
      "source": []
    },
    {
      "cell_type": "markdown",
      "metadata": {
        "id": "xemPFlt4D5fg"
      },
      "source": [
        "## If statements"
      ]
    },
    {
      "cell_type": "code",
      "execution_count": null,
      "metadata": {
        "id": "YO-QIxncD5fg"
      },
      "outputs": [],
      "source": []
    }
  ],
  "metadata": {
    "kernelspec": {
      "display_name": "Python 3 (ipykernel)",
      "language": "python",
      "name": "python3"
    },
    "language_info": {
      "codemirror_mode": {
        "name": "ipython",
        "version": 3
      },
      "file_extension": ".py",
      "mimetype": "text/x-python",
      "name": "python",
      "nbconvert_exporter": "python",
      "pygments_lexer": "ipython3",
      "version": "3.11.1"
    },
    "toc": {
      "base_numbering": 1,
      "nav_menu": {},
      "number_sections": true,
      "sideBar": true,
      "skip_h1_title": false,
      "title_cell": "Table of Contents",
      "title_sidebar": "Contents",
      "toc_cell": false,
      "toc_position": {
        "height": "calc(100% - 180px)",
        "left": "10px",
        "top": "150px",
        "width": "384px"
      },
      "toc_section_display": true,
      "toc_window_display": true
    },
    "varInspector": {
      "cols": {
        "lenName": 16,
        "lenType": 16,
        "lenVar": 40
      },
      "kernels_config": {
        "python": {
          "delete_cmd_postfix": "",
          "delete_cmd_prefix": "del ",
          "library": "var_list.py",
          "varRefreshCmd": "print(var_dic_list())"
        },
        "r": {
          "delete_cmd_postfix": ") ",
          "delete_cmd_prefix": "rm(",
          "library": "var_list.r",
          "varRefreshCmd": "cat(var_dic_list()) "
        }
      },
      "types_to_exclude": [
        "module",
        "function",
        "builtin_function_or_method",
        "instance",
        "_Feature"
      ],
      "window_display": false
    },
    "colab": {
      "provenance": []
    }
  },
  "nbformat": 4,
  "nbformat_minor": 0
}