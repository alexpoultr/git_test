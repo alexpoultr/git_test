{
  "cells": [
    {
      "cell_type": "markdown",
      "metadata": {
        "id": "6nJegEchXj-M"
      },
      "source": [
        "# Machine Learning Lab 6\n",
        "\n",
        "Classification and group coding exercise.\n",
        "\n",
        "## Imports"
      ]
    },
    {
      "cell_type": "code",
      "execution_count": 1,
      "metadata": {
        "ExecuteTime": {
          "end_time": "2022-10-31T08:59:25.978220Z",
          "start_time": "2022-10-31T08:59:18.298131Z"
        },
        "id": "n8DaJ5-0Xj-O"
      },
      "outputs": [],
      "source": [
        "# Data and Datasets\n",
        "import pandas as pd\n",
        "from sklearn.datasets import load_iris\n",
        "from sklearn.datasets import load_wine\n",
        "\n",
        "# Validation methods\n",
        "from sklearn.model_selection import train_test_split\n",
        "from sklearn.model_selection import cross_val_score\n",
        "from sklearn.model_selection import cross_validate\n",
        "\n",
        "# Metrics\n",
        "from sklearn import metrics\n",
        "from sklearn.metrics import make_scorer\n",
        "from sklearn.metrics import accuracy_score\n",
        "\n",
        "# Classifiers\n",
        "from sklearn.neighbors import KNeighborsClassifier\n",
        "from classifiers import k_nearest_neighbour # the K-NN python file in the 'classifiers' folder\n",
        "from classifiers import random_classifier # the Random Classifier python file in the 'classifiers' folder\n",
        "\n",
        "# Plotting & utils\n",
        "import pprint\n",
        "import matplotlib.pyplot as plt\n",
        "import numpy as np"
      ]
    },
    {
      "cell_type": "code",
      "execution_count": 2,
      "metadata": {
        "ExecuteTime": {
          "end_time": "2022-10-31T08:59:26.006364Z",
          "start_time": "2022-10-31T08:59:25.981034Z"
        },
        "id": "hzoCJES-Xj-P"
      },
      "outputs": [],
      "source": [
        "# Loading dataset (from sklearn, not from file)\n",
        "dataset = load_iris()\n",
        "X = dataset.data\n",
        "y = dataset.target"
      ]
    },
    {
      "cell_type": "markdown",
      "metadata": {
        "id": "tXsHNFf3Xj-Q"
      },
      "source": [
        "## Random Classifier"
      ]
    },
    {
      "cell_type": "code",
      "execution_count": 3,
      "metadata": {
        "ExecuteTime": {
          "end_time": "2022-10-31T08:59:52.770026Z",
          "start_time": "2022-10-31T08:59:52.757452Z"
        },
        "id": "bwLJMuedXj-Q",
        "outputId": "5e747d37-8289-4e92-b7a1-0df3c276153b",
        "colab": {
          "base_uri": "https://localhost:8080/"
        }
      },
      "outputs": [
        {
          "output_type": "stream",
          "name": "stdout",
          "text": [
            "[[3 3 4]\n",
            " [3 3 4]\n",
            " [2 2 6]]\n",
            "\n",
            "Accuracy (Testing):  0.40 \n"
          ]
        }
      ],
      "source": [
        "# Splitting dataset for hold-out validation\n",
        "X_train, X_test, y_train, y_test = train_test_split(X, # feature matrix\n",
        "                                                    y, # label vector\n",
        "                                                    test_size=0.2, # 20% test / 80% traing\n",
        "                                                    random_state=1, # fixed random seed\n",
        "                                                    stratify=y # split dataset proportional to classes\n",
        "                                                   )\n",
        "\n",
        "# Instantiating model\n",
        "model = random_classifier.RandomClassifier()\n",
        "\n",
        "# Training model\n",
        "model = model.fit(X_train, y_train)\n",
        "\n",
        "# Testing model\n",
        "y_pred = model.predict(X_test)\n",
        "\n",
        "# Printing out confusion matrix and accuracy\n",
        "print(metrics.confusion_matrix(y_test, y_pred))\n",
        "print(\"\\nAccuracy (Testing):  %0.2f \" % (metrics.accuracy_score(y_test, y_pred)))"
      ]
    },
    {
      "cell_type": "markdown",
      "metadata": {
        "id": "c3045JvpXj-S"
      },
      "source": [
        "## Bespoke K-NN"
      ]
    },
    {
      "cell_type": "code",
      "execution_count": 4,
      "metadata": {
        "id": "x-8Fq06lXj-S",
        "outputId": "80de2c3d-cb26-4c42-ff81-54d378f2938e",
        "colab": {
          "base_uri": "https://localhost:8080/"
        }
      },
      "outputs": [
        {
          "output_type": "stream",
          "name": "stdout",
          "text": [
            "Initialised K-NN\n",
            "k = 5\n",
            "Training...\n",
            "Testing...\n",
            "[[9 1 0]\n",
            " [2 4 4]\n",
            " [1 4 5]]\n",
            "\n",
            "Accuracy (Testing):  0.60 \n"
          ]
        }
      ],
      "source": [
        "from classifiers import k_nearest_neighbour\n",
        "\n",
        "# Instantiating model\n",
        "model = k_nearest_neighbour.KNNClassifier(5)\n",
        "\n",
        "# Training model\n",
        "model = model.fit(X_train, y_train)\n",
        "\n",
        "# Testing model\n",
        "y_pred = model.predict(X_test)\n",
        "\n",
        "# Printing out confusion matrix and accuracy\n",
        "print(metrics.confusion_matrix(y_test, y_pred))\n",
        "print(\"\\nAccuracy (Testing):  %0.2f \" % (metrics.accuracy_score(y_test, y_pred)))"
      ]
    },
    {
      "cell_type": "markdown",
      "metadata": {
        "id": "y0s-Ok9aXj-S"
      },
      "source": [
        "## Evaluation\n",
        "\n",
        "Lab tasks on hold-out and cross-validation, etc."
      ]
    },
    {
      "cell_type": "code",
      "execution_count": 4,
      "metadata": {
        "id": "p-1kVD0WXj-T"
      },
      "outputs": [],
      "source": []
    }
  ],
  "metadata": {
    "kernelspec": {
      "display_name": "Python 3 (ipykernel)",
      "language": "python",
      "name": "python3"
    },
    "language_info": {
      "codemirror_mode": {
        "name": "ipython",
        "version": 3
      },
      "file_extension": ".py",
      "mimetype": "text/x-python",
      "name": "python",
      "nbconvert_exporter": "python",
      "pygments_lexer": "ipython3",
      "version": "3.11.1"
    },
    "toc": {
      "base_numbering": 1,
      "nav_menu": {},
      "number_sections": true,
      "sideBar": true,
      "skip_h1_title": false,
      "title_cell": "Table of Contents",
      "title_sidebar": "Contents",
      "toc_cell": false,
      "toc_position": {},
      "toc_section_display": true,
      "toc_window_display": false
    },
    "varInspector": {
      "cols": {
        "lenName": 16,
        "lenType": 16,
        "lenVar": 40
      },
      "kernels_config": {
        "python": {
          "delete_cmd_postfix": "",
          "delete_cmd_prefix": "del ",
          "library": "var_list.py",
          "varRefreshCmd": "print(var_dic_list())"
        },
        "r": {
          "delete_cmd_postfix": ") ",
          "delete_cmd_prefix": "rm(",
          "library": "var_list.r",
          "varRefreshCmd": "cat(var_dic_list()) "
        }
      },
      "types_to_exclude": [
        "module",
        "function",
        "builtin_function_or_method",
        "instance",
        "_Feature"
      ],
      "window_display": false
    },
    "colab": {
      "provenance": []
    }
  },
  "nbformat": 4,
  "nbformat_minor": 0
}