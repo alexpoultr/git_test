{
  "cells": [
    {
      "cell_type": "markdown",
      "metadata": {
        "id": "dfPqTG9dQ-P9"
      },
      "source": [
        "# Machine Learning Lab 02\n",
        "\n",
        "For this lab, you can find sections for NumPy, Pandas, Matplotlib, Exploratory Data Analysis, and the optional Analysis of Anscombe's Quartet.\n",
        "\n",
        "Please add new cells for your code to expand this notebook (**File** --> **Insert**)"
      ]
    },
    {
      "cell_type": "markdown",
      "metadata": {
        "id": "ffT6yvkuQ-QA"
      },
      "source": [
        "## NumPy"
      ]
    },
    {
      "cell_type": "code",
      "execution_count": 4,
      "metadata": {
        "id": "KEdfE-rWQ-QC",
        "outputId": "83178354-cb3d-4ba2-94ad-b1cb4b1e5bf4",
        "colab": {
          "base_uri": "https://localhost:8080/"
        }
      },
      "outputs": [
        {
          "output_type": "stream",
          "name": "stdout",
          "text": [
            "[0 1 2 3 4 3 2 1 0 3]\n"
          ]
        }
      ],
      "source": [
        "import numpy as np\n",
        "\n",
        "an_array = np.array([])\n",
        "another_array = np.array([0,1,2,3,4,3,2,1,0,3])\n",
        "print(another_array)"
      ]
    },
    {
      "cell_type": "code",
      "source": [
        "c = np.array([(1,3,3,7), (4,2,4,2)])"
      ],
      "metadata": {
        "id": "rdZA--UsTDrZ"
      },
      "execution_count": 5,
      "outputs": []
    },
    {
      "cell_type": "code",
      "source": [
        "print('3rd value (at index 2):',another_array[2])"
      ],
      "metadata": {
        "id": "TjFOYb-STb3Y",
        "outputId": "739f2214-0329-4a0e-b9cd-ad1d5f24faf8",
        "colab": {
          "base_uri": "https://localhost:8080/"
        }
      },
      "execution_count": 6,
      "outputs": [
        {
          "output_type": "stream",
          "name": "stdout",
          "text": [
            "3rd value (at index 2): 2\n"
          ]
        }
      ]
    },
    {
      "cell_type": "code",
      "source": [
        "print(\"Value at (0, 2) =\", c[0][2])"
      ],
      "metadata": {
        "id": "a3STKBsTTpUA",
        "outputId": "680481da-4601-42c4-96ae-8b6974f50c4e",
        "colab": {
          "base_uri": "https://localhost:8080/"
        }
      },
      "execution_count": 7,
      "outputs": [
        {
          "output_type": "stream",
          "name": "stdout",
          "text": [
            "Value at (0, 2) = 3\n"
          ]
        }
      ]
    },
    {
      "cell_type": "code",
      "source": [
        "print(\"1st row =\", c[0])"
      ],
      "metadata": {
        "id": "aENHHqgIULdO",
        "outputId": "fcb49655-825c-49d5-e7b9-cb6013175e17",
        "colab": {
          "base_uri": "https://localhost:8080/"
        }
      },
      "execution_count": 8,
      "outputs": [
        {
          "output_type": "stream",
          "name": "stdout",
          "text": [
            "1st row = [1 3 3 7]\n"
          ]
        }
      ]
    },
    {
      "cell_type": "code",
      "source": [
        "print(\"2nd column =\", c[:,1])"
      ],
      "metadata": {
        "id": "Vx_MtR2SUhBL",
        "outputId": "b95f6622-40eb-45dc-e872-d9fdb9d8e3f7",
        "colab": {
          "base_uri": "https://localhost:8080/"
        }
      },
      "execution_count": 11,
      "outputs": [
        {
          "output_type": "stream",
          "name": "stdout",
          "text": [
            "2nd column = [3 2]\n"
          ]
        }
      ]
    },
    {
      "cell_type": "code",
      "source": [
        "print(\"2nd column (up to 1st row) =\", c[:1,1])"
      ],
      "metadata": {
        "id": "_duqXSlFUspM",
        "outputId": "5ae8f552-0621-4357-b0c8-7af9caf6fc4c",
        "colab": {
          "base_uri": "https://localhost:8080/"
        }
      },
      "execution_count": 12,
      "outputs": [
        {
          "output_type": "stream",
          "name": "stdout",
          "text": [
            "2nd column (up to 1st row) = [3]\n"
          ]
        }
      ]
    },
    {
      "cell_type": "code",
      "source": [
        "for i in range(another_array.size):\n",
        "  print(another_array[i])"
      ],
      "metadata": {
        "id": "UUB12viRVnqV",
        "outputId": "b72804bf-ca7b-4fc3-d661-cd0081a2da10",
        "colab": {
          "base_uri": "https://localhost:8080/"
        }
      },
      "execution_count": 14,
      "outputs": [
        {
          "output_type": "stream",
          "name": "stdout",
          "text": [
            "0\n",
            "1\n",
            "2\n",
            "3\n",
            "4\n",
            "3\n",
            "2\n",
            "1\n",
            "0\n",
            "3\n"
          ]
        }
      ]
    },
    {
      "cell_type": "code",
      "source": [
        "for value in another_array:\n",
        "  print(value)"
      ],
      "metadata": {
        "id": "13oc7aCNV8_-",
        "outputId": "efd5fa15-1ade-4a73-c1b4-18b5815c623e",
        "colab": {
          "base_uri": "https://localhost:8080/"
        }
      },
      "execution_count": 15,
      "outputs": [
        {
          "output_type": "stream",
          "name": "stdout",
          "text": [
            "0\n",
            "1\n",
            "2\n",
            "3\n",
            "4\n",
            "3\n",
            "2\n",
            "1\n",
            "0\n",
            "3\n"
          ]
        }
      ]
    },
    {
      "cell_type": "code",
      "source": [
        "for row in c:\n",
        "  print(row)"
      ],
      "metadata": {
        "id": "hxBElpo2WIc3",
        "outputId": "612ad33b-e627-441b-dc41-05f6714ba8a3",
        "colab": {
          "base_uri": "https://localhost:8080/"
        }
      },
      "execution_count": 16,
      "outputs": [
        {
          "output_type": "stream",
          "name": "stdout",
          "text": [
            "[1 3 3 7]\n",
            "[4 2 4 2]\n"
          ]
        }
      ]
    },
    {
      "cell_type": "code",
      "source": [
        "print(\"iterating over each element, row by row\")\n",
        "for row in c:\n",
        "  for cell in row:\n",
        "    print(cell, end=' ')"
      ],
      "metadata": {
        "id": "l9IJ0GbnWMKT",
        "outputId": "94b8e774-bffd-45b4-9616-ad52de706e25",
        "colab": {
          "base_uri": "https://localhost:8080/"
        }
      },
      "execution_count": 17,
      "outputs": [
        {
          "output_type": "stream",
          "name": "stdout",
          "text": [
            "iterating over each element, row by row\n",
            "1 3 3 7 4 2 4 2 "
          ]
        }
      ]
    },
    {
      "cell_type": "code",
      "source": [
        "print(\"iterating over each element, using flatten function\")\n",
        "for cell in c.flatten():\n",
        "    print(cell, end=' ')"
      ],
      "metadata": {
        "id": "UFKYCaVzWZ9J",
        "outputId": "38107698-9ae4-4d3d-826b-3659c918d953",
        "colab": {
          "base_uri": "https://localhost:8080/"
        }
      },
      "execution_count": 18,
      "outputs": [
        {
          "output_type": "stream",
          "name": "stdout",
          "text": [
            "iterating over each element, using flatten function\n",
            "1 3 3 7 4 2 4 2 "
          ]
        }
      ]
    },
    {
      "cell_type": "code",
      "source": [
        "a = np.arange(20)"
      ],
      "metadata": {
        "id": "mdWtu7MBWv8y"
      },
      "execution_count": 20,
      "outputs": []
    },
    {
      "cell_type": "code",
      "source": [
        "b = np.zeros((2,2))"
      ],
      "metadata": {
        "id": "TvMiPHIOW4zz"
      },
      "execution_count": 21,
      "outputs": []
    },
    {
      "cell_type": "code",
      "source": [
        "c = np.ones((4,4))"
      ],
      "metadata": {
        "id": "-PutZ_FEXAU5"
      },
      "execution_count": 22,
      "outputs": []
    },
    {
      "cell_type": "code",
      "source": [
        "d = np.full((3,3), np.nan)"
      ],
      "metadata": {
        "id": "cR2IbTO7XGHV"
      },
      "execution_count": 27,
      "outputs": []
    },
    {
      "cell_type": "code",
      "source": [
        "e = np.eye(5)"
      ],
      "metadata": {
        "id": "q1ftxVKvXQOW"
      },
      "execution_count": 29,
      "outputs": []
    },
    {
      "cell_type": "code",
      "source": [
        "f = np.random.random((2,2))"
      ],
      "metadata": {
        "id": "XJuOOzqcXZjP"
      },
      "execution_count": 30,
      "outputs": []
    },
    {
      "cell_type": "code",
      "source": [
        "another_array[0] = 5"
      ],
      "metadata": {
        "id": "m_jO-SwLXhMC"
      },
      "execution_count": 31,
      "outputs": []
    },
    {
      "cell_type": "code",
      "source": [
        "v = np.arange(4)\n",
        "print(\"v  =\", v)\n",
        "print(\"v + 5\", v + 5)\n",
        "print(\"v - 5\", v - 5)\n",
        "print(\"v * 2\", v * 2)\n",
        "print(\"v / 2\", v / 2)"
      ],
      "metadata": {
        "id": "vQdn1C-sXrg-",
        "outputId": "214ac82c-7912-469a-d9bb-90a81258b042",
        "colab": {
          "base_uri": "https://localhost:8080/"
        }
      },
      "execution_count": 33,
      "outputs": [
        {
          "output_type": "stream",
          "name": "stdout",
          "text": [
            "v  = [0 1 2 3]\n",
            "v + 5 [5 6 7 8]\n",
            "v - 5 [-5 -4 -3 -2]\n",
            "v * 2 [0 2 4 6]\n",
            "v / 2 [0.  0.5 1.  1.5]\n"
          ]
        }
      ]
    },
    {
      "cell_type": "code",
      "source": [
        "g = np.min(another_array)\n",
        "h = np.max(another_array)\n",
        "i = np.mean(another_array)\n",
        "j = np.median(another_array)\n",
        "k = np.average(another_array)\n",
        "l = np.var(another_array)\n",
        "m = np.std(another_array)"
      ],
      "metadata": {
        "id": "dMPUjNGnYMmi"
      },
      "execution_count": 41,
      "outputs": []
    },
    {
      "cell_type": "markdown",
      "metadata": {
        "id": "DNNomeW2Q-QC"
      },
      "source": [
        "## SciPy"
      ]
    },
    {
      "cell_type": "code",
      "execution_count": 44,
      "metadata": {
        "id": "r0UQNtNfQ-QD",
        "outputId": "afbf067d-8f7d-44cd-86fc-acc1c3129fc5",
        "colab": {
          "base_uri": "https://localhost:8080/"
        }
      },
      "outputs": [
        {
          "output_type": "stream",
          "name": "stdout",
          "text": [
            "\n",
            "Descriptive statistics:\n",
            "\tshape = (10,)\n",
            "\tsize = 10\n",
            "\tmin = 0\n",
            "\tmax = 5\n",
            "\tmean = 2.4\n",
            "\tmedian = 2.5\n",
            "\tmode = 3  ( ModeResult(mode=3, count=3) )\n",
            "\tvariance = 2.04\n",
            "\tstandard_deviation = 1.42828568570857\n"
          ]
        }
      ],
      "source": [
        "from scipy import stats\n",
        "\n",
        "print(\"\\nDescriptive statistics:\")\n",
        "print(\"\\tshape =\", another_array.shape)\n",
        "print(\"\\tsize =\", another_array.size)\n",
        "print(\"\\tmin =\", another_array.min())\n",
        "print(\"\\tmax =\", another_array.max())\n",
        "print(\"\\tmean =\", another_array.mean()) # can also use np.mean(another_array)\n",
        "print(\"\\tmedian =\", np.median(another_array)) # can also use another_array.median()\n",
        "print(\"\\tmode =\", stats.mode(another_array)[0],\" (\",stats.mode(another_array),\")\")\n",
        "print(\"\\tvariance =\", np.var(another_array))\n",
        "print(\"\\tstandard_deviation =\", np.std(another_array))"
      ]
    },
    {
      "cell_type": "markdown",
      "metadata": {
        "id": "qAWP67PtQ-QD"
      },
      "source": [
        "## Pandas"
      ]
    },
    {
      "cell_type": "code",
      "execution_count": null,
      "metadata": {
        "id": "N5UnTYxIQ-QE"
      },
      "outputs": [],
      "source": []
    },
    {
      "cell_type": "markdown",
      "metadata": {
        "id": "agx7f1NDQ-QF"
      },
      "source": [
        "## Matplotlib"
      ]
    },
    {
      "cell_type": "code",
      "execution_count": null,
      "metadata": {
        "id": "nUM73mfvQ-QG"
      },
      "outputs": [],
      "source": []
    },
    {
      "cell_type": "markdown",
      "metadata": {
        "id": "VIm4TiuMQ-QH"
      },
      "source": [
        "## Exploratory Data Analysis\n",
        "\n",
        "Some of the cells below already got code doing things for you.\n",
        "\n",
        "Some cells are empty for you to do _stuff_ in to **answer questions**!\n",
        "\n",
        "See lab task notes for the list of questions if you want to see them all in one place."
      ]
    },
    {
      "cell_type": "markdown",
      "metadata": {
        "id": "01wwBbbkQ-QH"
      },
      "source": [
        "### Loading the dataset\n",
        "\n",
        "First, we load the dataset, then we can execute various functions to explore the data, calculate statistics and plot graphs."
      ]
    },
    {
      "cell_type": "code",
      "execution_count": null,
      "metadata": {
        "ExecuteTime": {
          "end_time": "2021-10-04T15:00:04.732125Z",
          "start_time": "2021-10-04T15:00:04.334215Z"
        },
        "id": "l9qa84ijQ-QI"
      },
      "outputs": [],
      "source": [
        "import pandas as pd\n",
        "\n",
        "dataset = pd.read_csv('data/ml-assessment-dataset.csv')\n",
        "dataset.head()"
      ]
    },
    {
      "cell_type": "markdown",
      "metadata": {
        "id": "YPFiyEupQ-QI"
      },
      "source": [
        "### Exploring the dataset\n",
        "\n",
        "The overall aim for the data exploration here is to get a feel for some of the influences on the machine learning marks for past students.\n",
        "\n",
        "Let's focus on two features for this:\n",
        " * Class (1 = pass, 0 = fail)\n",
        " * Total mark (the total unit mark, range 0-100)\n",
        " * L4 mean mark (to mean mark across all 6 level 4 units)"
      ]
    },
    {
      "cell_type": "markdown",
      "metadata": {
        "id": "vT_pKfPpQ-QJ"
      },
      "source": [
        "#### General information\n",
        "\n",
        "Questions to answer:\n",
        "* How many instances are there in the dataset?\n",
        "* What is the mean mark (total), including non-submissions?"
      ]
    },
    {
      "cell_type": "code",
      "execution_count": null,
      "metadata": {
        "ExecuteTime": {
          "end_time": "2021-10-04T15:00:04.735467Z",
          "start_time": "2021-10-04T15:00:04.733846Z"
        },
        "id": "vlYZpdzxQ-QK"
      },
      "outputs": [],
      "source": [
        "# TODO: answer the two questions with the following functions\n",
        "# .info()\n",
        "# .describe()\n",
        "\n"
      ]
    },
    {
      "cell_type": "markdown",
      "metadata": {
        "id": "tCJ11b19Q-QK"
      },
      "source": [
        "#### Class (pass/fail) analysis\n",
        "\n",
        "Questions to answer:\n",
        "* Is the class balance equal?\n",
        "* Which class is the MOST represented in the dataset?\n",
        "* How many students passed?"
      ]
    },
    {
      "cell_type": "code",
      "execution_count": null,
      "metadata": {
        "ExecuteTime": {
          "end_time": "2021-10-04T15:00:04.739764Z",
          "start_time": "2021-10-04T15:00:04.737571Z"
        },
        "id": "Ovt_PDpHQ-QL"
      },
      "outputs": [],
      "source": [
        "# TODO: NUMERIC OUTPUT FOR CLASS BALANCE (NUMBER OF VALUES/INSTANCES FOR EACH CLASS)\n"
      ]
    },
    {
      "cell_type": "code",
      "execution_count": null,
      "metadata": {
        "ExecuteTime": {
          "end_time": "2021-10-04T15:00:04.743469Z",
          "start_time": "2021-10-04T15:00:04.741988Z"
        },
        "id": "HXzZKAIXQ-QL"
      },
      "outputs": [],
      "source": [
        "# TODO: CHART FOR CLASS DISTRIBUTION\n"
      ]
    },
    {
      "cell_type": "markdown",
      "metadata": {
        "id": "oxgpOX-0Q-QL"
      },
      "source": [
        "#### Mark analysis\n",
        "\n",
        "Questions to answer:\n",
        "\n",
        "* What is the mean mark (total), including non-submissions?\n",
        "* What is the mean mark (total), excluding non-submissions?\n",
        "* What is the mean level 4 mark for the students who passed?\n",
        "* What is the mean level 4 mark for the students who failed?"
      ]
    },
    {
      "cell_type": "code",
      "execution_count": null,
      "metadata": {
        "id": "HIicdsEkQ-QL"
      },
      "outputs": [],
      "source": [
        "# To get the mean of a specific feature/column, you can use this format:\n",
        "#   dataset['COLUMN_NAME'].mean()\n",
        "\n"
      ]
    },
    {
      "cell_type": "code",
      "execution_count": null,
      "metadata": {
        "ExecuteTime": {
          "end_time": "2021-10-04T15:00:04.881199Z",
          "start_time": "2021-10-04T15:00:04.748755Z"
        },
        "id": "akYKAJaXQ-QM"
      },
      "outputs": [],
      "source": [
        "# Have a go at using one of these functions for the first 2 questions\n",
        "#\n",
        "#    dataset['COLUMN_NAME_FOR_THE_VALUES_YOU_WANT'][dataset['COLUMN_NAME_TO_FILTER_BY'] == FILTER_VALUE_YOU_WANT].mean()\n",
        "#    dataset.groupby('COLUMN_NAME_TO_GROUP_BY')['COLUMN_NAME_FOR_THE_VALUES_YOU_WANT'].mean()\n",
        "#\n",
        "# For example, the following would print out the mean age of ANYBODY (female and male) without heart diseas\n",
        "#\n",
        "#    print(dataset['Total mark'][dataset['Class'] == 0].mean())\n",
        "#    print(dataset.groupby('Class')['Total mark'].mean())\n",
        "#\n",
        "# In the examples above, you want to find out the mean ages for genders, not the class (for the first 2 questions)\n",
        "# Remember, column names are case sensitive\n",
        "\n",
        "# TODO: Mean mark for those submitted (excluding non-submissions)\n",
        "\n",
        "\n",
        "\n",
        "# TODO: Mean level 4 mark for those students who passed vs failed\n",
        "\n"
      ]
    },
    {
      "cell_type": "markdown",
      "metadata": {
        "id": "tJspWYpmQ-QM"
      },
      "source": [
        "## Analysis of Anscombe's Quartet\n",
        "\n",
        "There are many ways you can play around with the data and have a look at it, e.g.,\n",
        "\n",
        "1. a hardcoded approach using numpy and matplotlib\n",
        "2. an approach using pandas and reading directly from Excel\n",
        "\n",
        "The example code below uses option 1 just to keep it simpler here."
      ]
    },
    {
      "cell_type": "code",
      "execution_count": null,
      "metadata": {
        "ExecuteTime": {
          "end_time": "2021-10-04T15:00:04.886337Z",
          "start_time": "2021-10-04T15:00:04.348Z"
        },
        "id": "EGMiJdGNQ-QM"
      },
      "outputs": [],
      "source": [
        "import numpy as np\n",
        "from scipy import stats\n",
        "from numpy.polynomial.polynomial import polyfit\n",
        "import matplotlib.pyplot as plt\n",
        "\n",
        "# Anscombe's 1st dataset\n",
        "x1 = np.array([10, 8, 13, 9, 11, 14, 6, 4, 12, 7, 5])\n",
        "y1 = np.array([8.04, 6.95, 7.58, 8.81, 8.33, 9.96, 7.24, 4.26, 10.84, 4.82, 5.68])\n",
        "\n",
        "# Anscombe's 2nd dataset\n",
        "x2 = np.array([10, 8, 13, 9, 11, 14, 6, 4, 12, 7, 5])\n",
        "y2 = np.array([9.14, 8.14, 8.74, 8.77, 9.26, 8.1, 6.13, 3.1, 9.13, 7.26, 4.74])\n",
        "\n",
        "# TODO: Anscombe's 3rd dataset\n",
        "\n",
        "\n",
        "# TODO: Anscombe's 4th dataset\n",
        "\n"
      ]
    },
    {
      "cell_type": "markdown",
      "metadata": {
        "id": "3s5Cpi9dQ-QN"
      },
      "source": [
        "### Print out the stats\n",
        "\n",
        "* mean\n",
        "* median\n",
        "* mode\n",
        "* variance\n",
        "* standard deviation"
      ]
    },
    {
      "cell_type": "code",
      "execution_count": null,
      "metadata": {
        "ExecuteTime": {
          "end_time": "2021-10-04T15:00:04.887267Z",
          "start_time": "2021-10-04T15:00:04.351Z"
        },
        "id": "MsRqgsQLQ-QO"
      },
      "outputs": [],
      "source": [
        "print(\"Anscombe stats\\n\")\n",
        "# TODO (using Numpy and SciPy)\n",
        "\n"
      ]
    },
    {
      "cell_type": "markdown",
      "metadata": {
        "id": "v9DfxmF0Q-QO"
      },
      "source": [
        "### Plot regression lines\n",
        "\n",
        "This is more challenging, but you can use the following code as the basis for:\n",
        "\n",
        "* Calculate/create regression lines for the 3rd and 4th datasets (that you added above)\n",
        "* Change the subplot configuration to a 2 x 2 grid (currently 1 x 2)\n",
        "* Plot the 3rd and 4th datasets (as subplots with the 1st and 2nd datasets)\n",
        "\n",
        "**REFLECT** on the stats above and what you see in the images."
      ]
    },
    {
      "cell_type": "code",
      "execution_count": null,
      "metadata": {
        "ExecuteTime": {
          "end_time": "2021-10-04T15:00:04.888470Z",
          "start_time": "2021-10-04T15:00:04.353Z"
        },
        "id": "og8fHb7RQ-QO"
      },
      "outputs": [],
      "source": [
        "# Linear regression lines\n",
        "b1, m1 = polyfit(x1, y1, 1)\n",
        "b2, m2 = polyfit(x2, y2, 1)\n",
        "\n",
        "# Setting up figure with two sub-plots\n",
        "fig, axs = plt.subplots(1, 2, figsize=(16, 6), sharey=True)\n",
        "fig.suptitle(\"Anscombe's Quartet\")\n",
        "\n",
        "# Adding figure for Ans-1\n",
        "axs[0].plot(x1, y1, '.')\n",
        "axs[0].plot(x1, b1 + m1 * x1, '-')\n",
        "axs[0].set_xlabel('x')\n",
        "axs[0].set_ylabel('y')\n",
        "\n",
        "# Adding figure for Ans-2\n",
        "axs[1].plot(x2, y2, '.')\n",
        "axs[1].plot(x2, b2 + m2 * x2, '-')\n",
        "axs[0].set_xlabel('x')\n",
        "axs[0].set_ylabel('y')"
      ]
    },
    {
      "cell_type": "code",
      "execution_count": null,
      "metadata": {
        "id": "MPEmxQOwQ-QO"
      },
      "outputs": [],
      "source": []
    }
  ],
  "metadata": {
    "kernelspec": {
      "display_name": "Python 3 (ipykernel)",
      "language": "python",
      "name": "python3"
    },
    "language_info": {
      "codemirror_mode": {
        "name": "ipython",
        "version": 3
      },
      "file_extension": ".py",
      "mimetype": "text/x-python",
      "name": "python",
      "nbconvert_exporter": "python",
      "pygments_lexer": "ipython3",
      "version": "3.11.1"
    },
    "toc": {
      "base_numbering": 1,
      "nav_menu": {},
      "number_sections": true,
      "sideBar": true,
      "skip_h1_title": false,
      "title_cell": "Table of Contents",
      "title_sidebar": "Contents",
      "toc_cell": false,
      "toc_position": {},
      "toc_section_display": true,
      "toc_window_display": true
    },
    "varInspector": {
      "cols": {
        "lenName": 16,
        "lenType": 16,
        "lenVar": 40
      },
      "kernels_config": {
        "python": {
          "delete_cmd_postfix": "",
          "delete_cmd_prefix": "del ",
          "library": "var_list.py",
          "varRefreshCmd": "print(var_dic_list())"
        },
        "r": {
          "delete_cmd_postfix": ") ",
          "delete_cmd_prefix": "rm(",
          "library": "var_list.r",
          "varRefreshCmd": "cat(var_dic_list()) "
        }
      },
      "types_to_exclude": [
        "module",
        "function",
        "builtin_function_or_method",
        "instance",
        "_Feature"
      ],
      "window_display": false
    },
    "colab": {
      "provenance": []
    }
  },
  "nbformat": 4,
  "nbformat_minor": 0
}