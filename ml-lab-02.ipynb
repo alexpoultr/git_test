{
  "cells": [
    {
      "cell_type": "markdown",
      "metadata": {
        "id": "dfPqTG9dQ-P9"
      },
      "source": [
        "# Machine Learning Lab 02\n",
        "\n",
        "For this lab, you can find sections for NumPy, Pandas, Matplotlib, Exploratory Data Analysis, and the optional Analysis of Anscombe's Quartet.\n",
        "\n",
        "Please add new cells for your code to expand this notebook (**File** --> **Insert**)"
      ]
    },
    {
      "cell_type": "code",
      "source": [
        "from google.colab import drive\n",
        "drive.mount('/content/drive')"
      ],
      "metadata": {
        "id": "IhhrDWOJfpoH"
      },
      "execution_count": null,
      "outputs": []
    },
    {
      "cell_type": "markdown",
      "metadata": {
        "id": "ffT6yvkuQ-QA"
      },
      "source": [
        "## NumPy"
      ]
    },
    {
      "cell_type": "code",
      "execution_count": null,
      "metadata": {
        "colab": {
          "base_uri": "https://localhost:8080/"
        },
        "id": "KEdfE-rWQ-QC",
        "outputId": "83178354-cb3d-4ba2-94ad-b1cb4b1e5bf4"
      },
      "outputs": [
        {
          "output_type": "stream",
          "name": "stdout",
          "text": [
            "[0 1 2 3 4 3 2 1 0 3]\n"
          ]
        }
      ],
      "source": [
        "import numpy as np\n",
        "\n",
        "an_array = np.array([])\n",
        "another_array = np.array([0,1,2,3,4,3,2,1,0,3])\n",
        "print(another_array)"
      ]
    },
    {
      "cell_type": "code",
      "source": [
        "c = np.array([(1,3,3,7), (4,2,4,2)])"
      ],
      "metadata": {
        "id": "rdZA--UsTDrZ"
      },
      "execution_count": null,
      "outputs": []
    },
    {
      "cell_type": "code",
      "source": [
        "print('3rd value (at index 2):',another_array[2])"
      ],
      "metadata": {
        "colab": {
          "base_uri": "https://localhost:8080/"
        },
        "id": "TjFOYb-STb3Y",
        "outputId": "739f2214-0329-4a0e-b9cd-ad1d5f24faf8"
      },
      "execution_count": null,
      "outputs": [
        {
          "output_type": "stream",
          "name": "stdout",
          "text": [
            "3rd value (at index 2): 2\n"
          ]
        }
      ]
    },
    {
      "cell_type": "code",
      "source": [
        "print(\"Value at (0, 2) =\", c[0][2])"
      ],
      "metadata": {
        "colab": {
          "base_uri": "https://localhost:8080/"
        },
        "id": "a3STKBsTTpUA",
        "outputId": "680481da-4601-42c4-96ae-8b6974f50c4e"
      },
      "execution_count": null,
      "outputs": [
        {
          "output_type": "stream",
          "name": "stdout",
          "text": [
            "Value at (0, 2) = 3\n"
          ]
        }
      ]
    },
    {
      "cell_type": "code",
      "source": [
        "print(\"1st row =\", c[0])"
      ],
      "metadata": {
        "colab": {
          "base_uri": "https://localhost:8080/"
        },
        "id": "aENHHqgIULdO",
        "outputId": "fcb49655-825c-49d5-e7b9-cb6013175e17"
      },
      "execution_count": null,
      "outputs": [
        {
          "output_type": "stream",
          "name": "stdout",
          "text": [
            "1st row = [1 3 3 7]\n"
          ]
        }
      ]
    },
    {
      "cell_type": "code",
      "source": [
        "print(\"2nd column =\", c[:,1])"
      ],
      "metadata": {
        "colab": {
          "base_uri": "https://localhost:8080/"
        },
        "id": "Vx_MtR2SUhBL",
        "outputId": "b95f6622-40eb-45dc-e872-d9fdb9d8e3f7"
      },
      "execution_count": null,
      "outputs": [
        {
          "output_type": "stream",
          "name": "stdout",
          "text": [
            "2nd column = [3 2]\n"
          ]
        }
      ]
    },
    {
      "cell_type": "code",
      "source": [
        "print(\"2nd column (up to 1st row) =\", c[:1,1])"
      ],
      "metadata": {
        "colab": {
          "base_uri": "https://localhost:8080/"
        },
        "id": "_duqXSlFUspM",
        "outputId": "5ae8f552-0621-4357-b0c8-7af9caf6fc4c"
      },
      "execution_count": null,
      "outputs": [
        {
          "output_type": "stream",
          "name": "stdout",
          "text": [
            "2nd column (up to 1st row) = [3]\n"
          ]
        }
      ]
    },
    {
      "cell_type": "code",
      "source": [
        "for i in range(another_array.size):\n",
        "  print(another_array[i])"
      ],
      "metadata": {
        "colab": {
          "base_uri": "https://localhost:8080/"
        },
        "id": "UUB12viRVnqV",
        "outputId": "b72804bf-ca7b-4fc3-d661-cd0081a2da10"
      },
      "execution_count": null,
      "outputs": [
        {
          "output_type": "stream",
          "name": "stdout",
          "text": [
            "0\n",
            "1\n",
            "2\n",
            "3\n",
            "4\n",
            "3\n",
            "2\n",
            "1\n",
            "0\n",
            "3\n"
          ]
        }
      ]
    },
    {
      "cell_type": "code",
      "source": [
        "for value in another_array:\n",
        "  print(value)"
      ],
      "metadata": {
        "colab": {
          "base_uri": "https://localhost:8080/"
        },
        "id": "13oc7aCNV8_-",
        "outputId": "efd5fa15-1ade-4a73-c1b4-18b5815c623e"
      },
      "execution_count": null,
      "outputs": [
        {
          "output_type": "stream",
          "name": "stdout",
          "text": [
            "0\n",
            "1\n",
            "2\n",
            "3\n",
            "4\n",
            "3\n",
            "2\n",
            "1\n",
            "0\n",
            "3\n"
          ]
        }
      ]
    },
    {
      "cell_type": "code",
      "source": [
        "for row in c:\n",
        "  print(row)"
      ],
      "metadata": {
        "colab": {
          "base_uri": "https://localhost:8080/"
        },
        "id": "hxBElpo2WIc3",
        "outputId": "612ad33b-e627-441b-dc41-05f6714ba8a3"
      },
      "execution_count": null,
      "outputs": [
        {
          "output_type": "stream",
          "name": "stdout",
          "text": [
            "[1 3 3 7]\n",
            "[4 2 4 2]\n"
          ]
        }
      ]
    },
    {
      "cell_type": "code",
      "source": [
        "print(\"iterating over each element, row by row\")\n",
        "for row in c:\n",
        "  for cell in row:\n",
        "    print(cell, end=' ')"
      ],
      "metadata": {
        "colab": {
          "base_uri": "https://localhost:8080/"
        },
        "id": "l9IJ0GbnWMKT",
        "outputId": "94b8e774-bffd-45b4-9616-ad52de706e25"
      },
      "execution_count": null,
      "outputs": [
        {
          "output_type": "stream",
          "name": "stdout",
          "text": [
            "iterating over each element, row by row\n",
            "1 3 3 7 4 2 4 2 "
          ]
        }
      ]
    },
    {
      "cell_type": "code",
      "source": [
        "print(\"iterating over each element, using flatten function\")\n",
        "for cell in c.flatten():\n",
        "    print(cell, end=' ')"
      ],
      "metadata": {
        "colab": {
          "base_uri": "https://localhost:8080/"
        },
        "id": "UFKYCaVzWZ9J",
        "outputId": "38107698-9ae4-4d3d-826b-3659c918d953"
      },
      "execution_count": null,
      "outputs": [
        {
          "output_type": "stream",
          "name": "stdout",
          "text": [
            "iterating over each element, using flatten function\n",
            "1 3 3 7 4 2 4 2 "
          ]
        }
      ]
    },
    {
      "cell_type": "code",
      "source": [
        "a = np.arange(20)"
      ],
      "metadata": {
        "id": "mdWtu7MBWv8y"
      },
      "execution_count": null,
      "outputs": []
    },
    {
      "cell_type": "code",
      "source": [
        "b = np.zeros((2,2))"
      ],
      "metadata": {
        "id": "TvMiPHIOW4zz"
      },
      "execution_count": null,
      "outputs": []
    },
    {
      "cell_type": "code",
      "source": [
        "c = np.ones((4,4))"
      ],
      "metadata": {
        "id": "-PutZ_FEXAU5"
      },
      "execution_count": null,
      "outputs": []
    },
    {
      "cell_type": "code",
      "source": [
        "d = np.full((3,3), np.nan)"
      ],
      "metadata": {
        "id": "cR2IbTO7XGHV"
      },
      "execution_count": null,
      "outputs": []
    },
    {
      "cell_type": "code",
      "source": [
        "e = np.eye(5)"
      ],
      "metadata": {
        "id": "q1ftxVKvXQOW"
      },
      "execution_count": null,
      "outputs": []
    },
    {
      "cell_type": "code",
      "source": [
        "f = np.random.random((2,2))"
      ],
      "metadata": {
        "id": "XJuOOzqcXZjP"
      },
      "execution_count": null,
      "outputs": []
    },
    {
      "cell_type": "code",
      "source": [
        "another_array[0] = 5"
      ],
      "metadata": {
        "id": "m_jO-SwLXhMC"
      },
      "execution_count": null,
      "outputs": []
    },
    {
      "cell_type": "code",
      "source": [
        "v = np.arange(4)\n",
        "print(\"v  =\", v)\n",
        "print(\"v + 5\", v + 5)\n",
        "print(\"v - 5\", v - 5)\n",
        "print(\"v * 2\", v * 2)\n",
        "print(\"v / 2\", v / 2)"
      ],
      "metadata": {
        "colab": {
          "base_uri": "https://localhost:8080/"
        },
        "id": "vQdn1C-sXrg-",
        "outputId": "214ac82c-7912-469a-d9bb-90a81258b042"
      },
      "execution_count": null,
      "outputs": [
        {
          "output_type": "stream",
          "name": "stdout",
          "text": [
            "v  = [0 1 2 3]\n",
            "v + 5 [5 6 7 8]\n",
            "v - 5 [-5 -4 -3 -2]\n",
            "v * 2 [0 2 4 6]\n",
            "v / 2 [0.  0.5 1.  1.5]\n"
          ]
        }
      ]
    },
    {
      "cell_type": "code",
      "source": [
        "g = np.min(another_array)\n",
        "h = np.max(another_array)\n",
        "i = np.mean(another_array)\n",
        "j = np.median(another_array)\n",
        "k = np.average(another_array)\n",
        "l = np.var(another_array)\n",
        "m = np.std(another_array)"
      ],
      "metadata": {
        "id": "dMPUjNGnYMmi"
      },
      "execution_count": null,
      "outputs": []
    },
    {
      "cell_type": "markdown",
      "metadata": {
        "id": "DNNomeW2Q-QC"
      },
      "source": [
        "## SciPy"
      ]
    },
    {
      "cell_type": "code",
      "execution_count": null,
      "metadata": {
        "colab": {
          "base_uri": "https://localhost:8080/"
        },
        "id": "r0UQNtNfQ-QD",
        "outputId": "afbf067d-8f7d-44cd-86fc-acc1c3129fc5"
      },
      "outputs": [
        {
          "output_type": "stream",
          "name": "stdout",
          "text": [
            "\n",
            "Descriptive statistics:\n",
            "\tshape = (10,)\n",
            "\tsize = 10\n",
            "\tmin = 0\n",
            "\tmax = 5\n",
            "\tmean = 2.4\n",
            "\tmedian = 2.5\n",
            "\tmode = 3  ( ModeResult(mode=3, count=3) )\n",
            "\tvariance = 2.04\n",
            "\tstandard_deviation = 1.42828568570857\n"
          ]
        }
      ],
      "source": [
        "from scipy import stats\n",
        "\n",
        "print(\"\\nDescriptive statistics:\")\n",
        "print(\"\\tshape =\", another_array.shape)\n",
        "print(\"\\tsize =\", another_array.size)\n",
        "print(\"\\tmin =\", another_array.min())\n",
        "print(\"\\tmax =\", another_array.max())\n",
        "print(\"\\tmean =\", another_array.mean()) # can also use np.mean(another_array)\n",
        "print(\"\\tmedian =\", np.median(another_array)) # can also use another_array.median()\n",
        "print(\"\\tmode =\", stats.mode(another_array)[0],\" (\",stats.mode(another_array),\")\")\n",
        "print(\"\\tvariance =\", np.var(another_array))\n",
        "print(\"\\tstandard_deviation =\", np.std(another_array))"
      ]
    },
    {
      "cell_type": "markdown",
      "metadata": {
        "id": "qAWP67PtQ-QD"
      },
      "source": [
        "## Pandas"
      ]
    },
    {
      "cell_type": "code",
      "execution_count": 3,
      "metadata": {
        "colab": {
          "base_uri": "https://localhost:8080/",
          "height": 175
        },
        "id": "N5UnTYxIQ-QE",
        "outputId": "18bcb9ad-33cb-4beb-ea2b-5438b0351aaa"
      },
      "outputs": [
        {
          "output_type": "execute_result",
          "data": {
            "text/plain": [
              "   apples  oranges\n",
              "0       3        0\n",
              "1       2        3\n",
              "2       0        7\n",
              "3       1        2"
            ],
            "text/html": [
              "\n",
              "  <div id=\"df-2d46a9ee-99f5-4827-ae01-59cfe5072de6\" class=\"colab-df-container\">\n",
              "    <div>\n",
              "<style scoped>\n",
              "    .dataframe tbody tr th:only-of-type {\n",
              "        vertical-align: middle;\n",
              "    }\n",
              "\n",
              "    .dataframe tbody tr th {\n",
              "        vertical-align: top;\n",
              "    }\n",
              "\n",
              "    .dataframe thead th {\n",
              "        text-align: right;\n",
              "    }\n",
              "</style>\n",
              "<table border=\"1\" class=\"dataframe\">\n",
              "  <thead>\n",
              "    <tr style=\"text-align: right;\">\n",
              "      <th></th>\n",
              "      <th>apples</th>\n",
              "      <th>oranges</th>\n",
              "    </tr>\n",
              "  </thead>\n",
              "  <tbody>\n",
              "    <tr>\n",
              "      <th>0</th>\n",
              "      <td>3</td>\n",
              "      <td>0</td>\n",
              "    </tr>\n",
              "    <tr>\n",
              "      <th>1</th>\n",
              "      <td>2</td>\n",
              "      <td>3</td>\n",
              "    </tr>\n",
              "    <tr>\n",
              "      <th>2</th>\n",
              "      <td>0</td>\n",
              "      <td>7</td>\n",
              "    </tr>\n",
              "    <tr>\n",
              "      <th>3</th>\n",
              "      <td>1</td>\n",
              "      <td>2</td>\n",
              "    </tr>\n",
              "  </tbody>\n",
              "</table>\n",
              "</div>\n",
              "    <div class=\"colab-df-buttons\">\n",
              "\n",
              "  <div class=\"colab-df-container\">\n",
              "    <button class=\"colab-df-convert\" onclick=\"convertToInteractive('df-2d46a9ee-99f5-4827-ae01-59cfe5072de6')\"\n",
              "            title=\"Convert this dataframe to an interactive table.\"\n",
              "            style=\"display:none;\">\n",
              "\n",
              "  <svg xmlns=\"http://www.w3.org/2000/svg\" height=\"24px\" viewBox=\"0 -960 960 960\">\n",
              "    <path d=\"M120-120v-720h720v720H120Zm60-500h600v-160H180v160Zm220 220h160v-160H400v160Zm0 220h160v-160H400v160ZM180-400h160v-160H180v160Zm440 0h160v-160H620v160ZM180-180h160v-160H180v160Zm440 0h160v-160H620v160Z\"/>\n",
              "  </svg>\n",
              "    </button>\n",
              "\n",
              "  <style>\n",
              "    .colab-df-container {\n",
              "      display:flex;\n",
              "      gap: 12px;\n",
              "    }\n",
              "\n",
              "    .colab-df-convert {\n",
              "      background-color: #E8F0FE;\n",
              "      border: none;\n",
              "      border-radius: 50%;\n",
              "      cursor: pointer;\n",
              "      display: none;\n",
              "      fill: #1967D2;\n",
              "      height: 32px;\n",
              "      padding: 0 0 0 0;\n",
              "      width: 32px;\n",
              "    }\n",
              "\n",
              "    .colab-df-convert:hover {\n",
              "      background-color: #E2EBFA;\n",
              "      box-shadow: 0px 1px 2px rgba(60, 64, 67, 0.3), 0px 1px 3px 1px rgba(60, 64, 67, 0.15);\n",
              "      fill: #174EA6;\n",
              "    }\n",
              "\n",
              "    .colab-df-buttons div {\n",
              "      margin-bottom: 4px;\n",
              "    }\n",
              "\n",
              "    [theme=dark] .colab-df-convert {\n",
              "      background-color: #3B4455;\n",
              "      fill: #D2E3FC;\n",
              "    }\n",
              "\n",
              "    [theme=dark] .colab-df-convert:hover {\n",
              "      background-color: #434B5C;\n",
              "      box-shadow: 0px 1px 3px 1px rgba(0, 0, 0, 0.15);\n",
              "      filter: drop-shadow(0px 1px 2px rgba(0, 0, 0, 0.3));\n",
              "      fill: #FFFFFF;\n",
              "    }\n",
              "  </style>\n",
              "\n",
              "    <script>\n",
              "      const buttonEl =\n",
              "        document.querySelector('#df-2d46a9ee-99f5-4827-ae01-59cfe5072de6 button.colab-df-convert');\n",
              "      buttonEl.style.display =\n",
              "        google.colab.kernel.accessAllowed ? 'block' : 'none';\n",
              "\n",
              "      async function convertToInteractive(key) {\n",
              "        const element = document.querySelector('#df-2d46a9ee-99f5-4827-ae01-59cfe5072de6');\n",
              "        const dataTable =\n",
              "          await google.colab.kernel.invokeFunction('convertToInteractive',\n",
              "                                                    [key], {});\n",
              "        if (!dataTable) return;\n",
              "\n",
              "        const docLinkHtml = 'Like what you see? Visit the ' +\n",
              "          '<a target=\"_blank\" href=https://colab.research.google.com/notebooks/data_table.ipynb>data table notebook</a>'\n",
              "          + ' to learn more about interactive tables.';\n",
              "        element.innerHTML = '';\n",
              "        dataTable['output_type'] = 'display_data';\n",
              "        await google.colab.output.renderOutput(dataTable, element);\n",
              "        const docLink = document.createElement('div');\n",
              "        docLink.innerHTML = docLinkHtml;\n",
              "        element.appendChild(docLink);\n",
              "      }\n",
              "    </script>\n",
              "  </div>\n",
              "\n",
              "\n",
              "<div id=\"df-2dd64c5f-e7c8-428a-b5ff-b26cb691e36b\">\n",
              "  <button class=\"colab-df-quickchart\" onclick=\"quickchart('df-2dd64c5f-e7c8-428a-b5ff-b26cb691e36b')\"\n",
              "            title=\"Suggest charts.\"\n",
              "            style=\"display:none;\">\n",
              "\n",
              "<svg xmlns=\"http://www.w3.org/2000/svg\" height=\"24px\"viewBox=\"0 0 24 24\"\n",
              "     width=\"24px\">\n",
              "    <g>\n",
              "        <path d=\"M19 3H5c-1.1 0-2 .9-2 2v14c0 1.1.9 2 2 2h14c1.1 0 2-.9 2-2V5c0-1.1-.9-2-2-2zM9 17H7v-7h2v7zm4 0h-2V7h2v10zm4 0h-2v-4h2v4z\"/>\n",
              "    </g>\n",
              "</svg>\n",
              "  </button>\n",
              "\n",
              "<style>\n",
              "  .colab-df-quickchart {\n",
              "      --bg-color: #E8F0FE;\n",
              "      --fill-color: #1967D2;\n",
              "      --hover-bg-color: #E2EBFA;\n",
              "      --hover-fill-color: #174EA6;\n",
              "      --disabled-fill-color: #AAA;\n",
              "      --disabled-bg-color: #DDD;\n",
              "  }\n",
              "\n",
              "  [theme=dark] .colab-df-quickchart {\n",
              "      --bg-color: #3B4455;\n",
              "      --fill-color: #D2E3FC;\n",
              "      --hover-bg-color: #434B5C;\n",
              "      --hover-fill-color: #FFFFFF;\n",
              "      --disabled-bg-color: #3B4455;\n",
              "      --disabled-fill-color: #666;\n",
              "  }\n",
              "\n",
              "  .colab-df-quickchart {\n",
              "    background-color: var(--bg-color);\n",
              "    border: none;\n",
              "    border-radius: 50%;\n",
              "    cursor: pointer;\n",
              "    display: none;\n",
              "    fill: var(--fill-color);\n",
              "    height: 32px;\n",
              "    padding: 0;\n",
              "    width: 32px;\n",
              "  }\n",
              "\n",
              "  .colab-df-quickchart:hover {\n",
              "    background-color: var(--hover-bg-color);\n",
              "    box-shadow: 0 1px 2px rgba(60, 64, 67, 0.3), 0 1px 3px 1px rgba(60, 64, 67, 0.15);\n",
              "    fill: var(--button-hover-fill-color);\n",
              "  }\n",
              "\n",
              "  .colab-df-quickchart-complete:disabled,\n",
              "  .colab-df-quickchart-complete:disabled:hover {\n",
              "    background-color: var(--disabled-bg-color);\n",
              "    fill: var(--disabled-fill-color);\n",
              "    box-shadow: none;\n",
              "  }\n",
              "\n",
              "  .colab-df-spinner {\n",
              "    border: 2px solid var(--fill-color);\n",
              "    border-color: transparent;\n",
              "    border-bottom-color: var(--fill-color);\n",
              "    animation:\n",
              "      spin 1s steps(1) infinite;\n",
              "  }\n",
              "\n",
              "  @keyframes spin {\n",
              "    0% {\n",
              "      border-color: transparent;\n",
              "      border-bottom-color: var(--fill-color);\n",
              "      border-left-color: var(--fill-color);\n",
              "    }\n",
              "    20% {\n",
              "      border-color: transparent;\n",
              "      border-left-color: var(--fill-color);\n",
              "      border-top-color: var(--fill-color);\n",
              "    }\n",
              "    30% {\n",
              "      border-color: transparent;\n",
              "      border-left-color: var(--fill-color);\n",
              "      border-top-color: var(--fill-color);\n",
              "      border-right-color: var(--fill-color);\n",
              "    }\n",
              "    40% {\n",
              "      border-color: transparent;\n",
              "      border-right-color: var(--fill-color);\n",
              "      border-top-color: var(--fill-color);\n",
              "    }\n",
              "    60% {\n",
              "      border-color: transparent;\n",
              "      border-right-color: var(--fill-color);\n",
              "    }\n",
              "    80% {\n",
              "      border-color: transparent;\n",
              "      border-right-color: var(--fill-color);\n",
              "      border-bottom-color: var(--fill-color);\n",
              "    }\n",
              "    90% {\n",
              "      border-color: transparent;\n",
              "      border-bottom-color: var(--fill-color);\n",
              "    }\n",
              "  }\n",
              "</style>\n",
              "\n",
              "  <script>\n",
              "    async function quickchart(key) {\n",
              "      const quickchartButtonEl =\n",
              "        document.querySelector('#' + key + ' button');\n",
              "      quickchartButtonEl.disabled = true;  // To prevent multiple clicks.\n",
              "      quickchartButtonEl.classList.add('colab-df-spinner');\n",
              "      try {\n",
              "        const charts = await google.colab.kernel.invokeFunction(\n",
              "            'suggestCharts', [key], {});\n",
              "      } catch (error) {\n",
              "        console.error('Error during call to suggestCharts:', error);\n",
              "      }\n",
              "      quickchartButtonEl.classList.remove('colab-df-spinner');\n",
              "      quickchartButtonEl.classList.add('colab-df-quickchart-complete');\n",
              "    }\n",
              "    (() => {\n",
              "      let quickchartButtonEl =\n",
              "        document.querySelector('#df-2dd64c5f-e7c8-428a-b5ff-b26cb691e36b button');\n",
              "      quickchartButtonEl.style.display =\n",
              "        google.colab.kernel.accessAllowed ? 'block' : 'none';\n",
              "    })();\n",
              "  </script>\n",
              "</div>\n",
              "    </div>\n",
              "  </div>\n"
            ]
          },
          "metadata": {},
          "execution_count": 3
        }
      ],
      "source": [
        "import pandas as pd\n",
        "\n",
        "data = {\n",
        "    'apples': [3, 2, 0, 1],\n",
        "    'oranges': [0, 3, 7, 2]\n",
        "}\n",
        "\n",
        "purchases_dataframe = pd.DataFrame(data)\n",
        "purchases_dataframe"
      ]
    },
    {
      "cell_type": "code",
      "source": [
        "import pandas as pd\n",
        "\n",
        "dataset = pd.read_csv('data/ml-assessment-dataset.csv')\n",
        "dataset.head()"
      ],
      "metadata": {
        "id": "C6OD4DftlNQv",
        "outputId": "cfe082e8-563c-48c0-8dd7-1c442b1394bc",
        "colab": {
          "base_uri": "https://localhost:8080/",
          "height": 206
        }
      },
      "execution_count": 5,
      "outputs": [
        {
          "output_type": "execute_result",
          "data": {
            "text/plain": [
              "   L4 mean mark  Did formative assessment  Submitted  Plagiarism  \\\n",
              "0            87                         0          1           0   \n",
              "1            83                         1          1           0   \n",
              "2            75                         0          1           0   \n",
              "3            77                         1          1           0   \n",
              "4            65                         0          1           1   \n",
              "\n",
              "   VLE content visited  Lecture engagement  Lab engagement Classifier impl  \\\n",
              "0                 0.15                0.30            0.20        Ensemble   \n",
              "1                 0.42                0.75            0.50            K-NN   \n",
              "2                 0.38                1.00            0.80        Ensemble   \n",
              "3                 0.80                1.00            0.90        Ensemble   \n",
              "4                 0.34                0.50            0.15            K-NN   \n",
              "\n",
              "   Code mark  Report mark  Total mark  Class  \n",
              "0         10           35          45      1  \n",
              "1         28           68          96      1  \n",
              "2         28           55          83      1  \n",
              "3         30           62          92      1  \n",
              "4          0           35          35      0  "
            ],
            "text/html": [
              "\n",
              "  <div id=\"df-8094961c-7ddd-4715-b4da-ab3a6513479c\" class=\"colab-df-container\">\n",
              "    <div>\n",
              "<style scoped>\n",
              "    .dataframe tbody tr th:only-of-type {\n",
              "        vertical-align: middle;\n",
              "    }\n",
              "\n",
              "    .dataframe tbody tr th {\n",
              "        vertical-align: top;\n",
              "    }\n",
              "\n",
              "    .dataframe thead th {\n",
              "        text-align: right;\n",
              "    }\n",
              "</style>\n",
              "<table border=\"1\" class=\"dataframe\">\n",
              "  <thead>\n",
              "    <tr style=\"text-align: right;\">\n",
              "      <th></th>\n",
              "      <th>L4 mean mark</th>\n",
              "      <th>Did formative assessment</th>\n",
              "      <th>Submitted</th>\n",
              "      <th>Plagiarism</th>\n",
              "      <th>VLE content visited</th>\n",
              "      <th>Lecture engagement</th>\n",
              "      <th>Lab engagement</th>\n",
              "      <th>Classifier impl</th>\n",
              "      <th>Code mark</th>\n",
              "      <th>Report mark</th>\n",
              "      <th>Total mark</th>\n",
              "      <th>Class</th>\n",
              "    </tr>\n",
              "  </thead>\n",
              "  <tbody>\n",
              "    <tr>\n",
              "      <th>0</th>\n",
              "      <td>87</td>\n",
              "      <td>0</td>\n",
              "      <td>1</td>\n",
              "      <td>0</td>\n",
              "      <td>0.15</td>\n",
              "      <td>0.30</td>\n",
              "      <td>0.20</td>\n",
              "      <td>Ensemble</td>\n",
              "      <td>10</td>\n",
              "      <td>35</td>\n",
              "      <td>45</td>\n",
              "      <td>1</td>\n",
              "    </tr>\n",
              "    <tr>\n",
              "      <th>1</th>\n",
              "      <td>83</td>\n",
              "      <td>1</td>\n",
              "      <td>1</td>\n",
              "      <td>0</td>\n",
              "      <td>0.42</td>\n",
              "      <td>0.75</td>\n",
              "      <td>0.50</td>\n",
              "      <td>K-NN</td>\n",
              "      <td>28</td>\n",
              "      <td>68</td>\n",
              "      <td>96</td>\n",
              "      <td>1</td>\n",
              "    </tr>\n",
              "    <tr>\n",
              "      <th>2</th>\n",
              "      <td>75</td>\n",
              "      <td>0</td>\n",
              "      <td>1</td>\n",
              "      <td>0</td>\n",
              "      <td>0.38</td>\n",
              "      <td>1.00</td>\n",
              "      <td>0.80</td>\n",
              "      <td>Ensemble</td>\n",
              "      <td>28</td>\n",
              "      <td>55</td>\n",
              "      <td>83</td>\n",
              "      <td>1</td>\n",
              "    </tr>\n",
              "    <tr>\n",
              "      <th>3</th>\n",
              "      <td>77</td>\n",
              "      <td>1</td>\n",
              "      <td>1</td>\n",
              "      <td>0</td>\n",
              "      <td>0.80</td>\n",
              "      <td>1.00</td>\n",
              "      <td>0.90</td>\n",
              "      <td>Ensemble</td>\n",
              "      <td>30</td>\n",
              "      <td>62</td>\n",
              "      <td>92</td>\n",
              "      <td>1</td>\n",
              "    </tr>\n",
              "    <tr>\n",
              "      <th>4</th>\n",
              "      <td>65</td>\n",
              "      <td>0</td>\n",
              "      <td>1</td>\n",
              "      <td>1</td>\n",
              "      <td>0.34</td>\n",
              "      <td>0.50</td>\n",
              "      <td>0.15</td>\n",
              "      <td>K-NN</td>\n",
              "      <td>0</td>\n",
              "      <td>35</td>\n",
              "      <td>35</td>\n",
              "      <td>0</td>\n",
              "    </tr>\n",
              "  </tbody>\n",
              "</table>\n",
              "</div>\n",
              "    <div class=\"colab-df-buttons\">\n",
              "\n",
              "  <div class=\"colab-df-container\">\n",
              "    <button class=\"colab-df-convert\" onclick=\"convertToInteractive('df-8094961c-7ddd-4715-b4da-ab3a6513479c')\"\n",
              "            title=\"Convert this dataframe to an interactive table.\"\n",
              "            style=\"display:none;\">\n",
              "\n",
              "  <svg xmlns=\"http://www.w3.org/2000/svg\" height=\"24px\" viewBox=\"0 -960 960 960\">\n",
              "    <path d=\"M120-120v-720h720v720H120Zm60-500h600v-160H180v160Zm220 220h160v-160H400v160Zm0 220h160v-160H400v160ZM180-400h160v-160H180v160Zm440 0h160v-160H620v160ZM180-180h160v-160H180v160Zm440 0h160v-160H620v160Z\"/>\n",
              "  </svg>\n",
              "    </button>\n",
              "\n",
              "  <style>\n",
              "    .colab-df-container {\n",
              "      display:flex;\n",
              "      gap: 12px;\n",
              "    }\n",
              "\n",
              "    .colab-df-convert {\n",
              "      background-color: #E8F0FE;\n",
              "      border: none;\n",
              "      border-radius: 50%;\n",
              "      cursor: pointer;\n",
              "      display: none;\n",
              "      fill: #1967D2;\n",
              "      height: 32px;\n",
              "      padding: 0 0 0 0;\n",
              "      width: 32px;\n",
              "    }\n",
              "\n",
              "    .colab-df-convert:hover {\n",
              "      background-color: #E2EBFA;\n",
              "      box-shadow: 0px 1px 2px rgba(60, 64, 67, 0.3), 0px 1px 3px 1px rgba(60, 64, 67, 0.15);\n",
              "      fill: #174EA6;\n",
              "    }\n",
              "\n",
              "    .colab-df-buttons div {\n",
              "      margin-bottom: 4px;\n",
              "    }\n",
              "\n",
              "    [theme=dark] .colab-df-convert {\n",
              "      background-color: #3B4455;\n",
              "      fill: #D2E3FC;\n",
              "    }\n",
              "\n",
              "    [theme=dark] .colab-df-convert:hover {\n",
              "      background-color: #434B5C;\n",
              "      box-shadow: 0px 1px 3px 1px rgba(0, 0, 0, 0.15);\n",
              "      filter: drop-shadow(0px 1px 2px rgba(0, 0, 0, 0.3));\n",
              "      fill: #FFFFFF;\n",
              "    }\n",
              "  </style>\n",
              "\n",
              "    <script>\n",
              "      const buttonEl =\n",
              "        document.querySelector('#df-8094961c-7ddd-4715-b4da-ab3a6513479c button.colab-df-convert');\n",
              "      buttonEl.style.display =\n",
              "        google.colab.kernel.accessAllowed ? 'block' : 'none';\n",
              "\n",
              "      async function convertToInteractive(key) {\n",
              "        const element = document.querySelector('#df-8094961c-7ddd-4715-b4da-ab3a6513479c');\n",
              "        const dataTable =\n",
              "          await google.colab.kernel.invokeFunction('convertToInteractive',\n",
              "                                                    [key], {});\n",
              "        if (!dataTable) return;\n",
              "\n",
              "        const docLinkHtml = 'Like what you see? Visit the ' +\n",
              "          '<a target=\"_blank\" href=https://colab.research.google.com/notebooks/data_table.ipynb>data table notebook</a>'\n",
              "          + ' to learn more about interactive tables.';\n",
              "        element.innerHTML = '';\n",
              "        dataTable['output_type'] = 'display_data';\n",
              "        await google.colab.output.renderOutput(dataTable, element);\n",
              "        const docLink = document.createElement('div');\n",
              "        docLink.innerHTML = docLinkHtml;\n",
              "        element.appendChild(docLink);\n",
              "      }\n",
              "    </script>\n",
              "  </div>\n",
              "\n",
              "\n",
              "<div id=\"df-d06b359d-4c27-4825-8de6-fbb852d39c90\">\n",
              "  <button class=\"colab-df-quickchart\" onclick=\"quickchart('df-d06b359d-4c27-4825-8de6-fbb852d39c90')\"\n",
              "            title=\"Suggest charts.\"\n",
              "            style=\"display:none;\">\n",
              "\n",
              "<svg xmlns=\"http://www.w3.org/2000/svg\" height=\"24px\"viewBox=\"0 0 24 24\"\n",
              "     width=\"24px\">\n",
              "    <g>\n",
              "        <path d=\"M19 3H5c-1.1 0-2 .9-2 2v14c0 1.1.9 2 2 2h14c1.1 0 2-.9 2-2V5c0-1.1-.9-2-2-2zM9 17H7v-7h2v7zm4 0h-2V7h2v10zm4 0h-2v-4h2v4z\"/>\n",
              "    </g>\n",
              "</svg>\n",
              "  </button>\n",
              "\n",
              "<style>\n",
              "  .colab-df-quickchart {\n",
              "      --bg-color: #E8F0FE;\n",
              "      --fill-color: #1967D2;\n",
              "      --hover-bg-color: #E2EBFA;\n",
              "      --hover-fill-color: #174EA6;\n",
              "      --disabled-fill-color: #AAA;\n",
              "      --disabled-bg-color: #DDD;\n",
              "  }\n",
              "\n",
              "  [theme=dark] .colab-df-quickchart {\n",
              "      --bg-color: #3B4455;\n",
              "      --fill-color: #D2E3FC;\n",
              "      --hover-bg-color: #434B5C;\n",
              "      --hover-fill-color: #FFFFFF;\n",
              "      --disabled-bg-color: #3B4455;\n",
              "      --disabled-fill-color: #666;\n",
              "  }\n",
              "\n",
              "  .colab-df-quickchart {\n",
              "    background-color: var(--bg-color);\n",
              "    border: none;\n",
              "    border-radius: 50%;\n",
              "    cursor: pointer;\n",
              "    display: none;\n",
              "    fill: var(--fill-color);\n",
              "    height: 32px;\n",
              "    padding: 0;\n",
              "    width: 32px;\n",
              "  }\n",
              "\n",
              "  .colab-df-quickchart:hover {\n",
              "    background-color: var(--hover-bg-color);\n",
              "    box-shadow: 0 1px 2px rgba(60, 64, 67, 0.3), 0 1px 3px 1px rgba(60, 64, 67, 0.15);\n",
              "    fill: var(--button-hover-fill-color);\n",
              "  }\n",
              "\n",
              "  .colab-df-quickchart-complete:disabled,\n",
              "  .colab-df-quickchart-complete:disabled:hover {\n",
              "    background-color: var(--disabled-bg-color);\n",
              "    fill: var(--disabled-fill-color);\n",
              "    box-shadow: none;\n",
              "  }\n",
              "\n",
              "  .colab-df-spinner {\n",
              "    border: 2px solid var(--fill-color);\n",
              "    border-color: transparent;\n",
              "    border-bottom-color: var(--fill-color);\n",
              "    animation:\n",
              "      spin 1s steps(1) infinite;\n",
              "  }\n",
              "\n",
              "  @keyframes spin {\n",
              "    0% {\n",
              "      border-color: transparent;\n",
              "      border-bottom-color: var(--fill-color);\n",
              "      border-left-color: var(--fill-color);\n",
              "    }\n",
              "    20% {\n",
              "      border-color: transparent;\n",
              "      border-left-color: var(--fill-color);\n",
              "      border-top-color: var(--fill-color);\n",
              "    }\n",
              "    30% {\n",
              "      border-color: transparent;\n",
              "      border-left-color: var(--fill-color);\n",
              "      border-top-color: var(--fill-color);\n",
              "      border-right-color: var(--fill-color);\n",
              "    }\n",
              "    40% {\n",
              "      border-color: transparent;\n",
              "      border-right-color: var(--fill-color);\n",
              "      border-top-color: var(--fill-color);\n",
              "    }\n",
              "    60% {\n",
              "      border-color: transparent;\n",
              "      border-right-color: var(--fill-color);\n",
              "    }\n",
              "    80% {\n",
              "      border-color: transparent;\n",
              "      border-right-color: var(--fill-color);\n",
              "      border-bottom-color: var(--fill-color);\n",
              "    }\n",
              "    90% {\n",
              "      border-color: transparent;\n",
              "      border-bottom-color: var(--fill-color);\n",
              "    }\n",
              "  }\n",
              "</style>\n",
              "\n",
              "  <script>\n",
              "    async function quickchart(key) {\n",
              "      const quickchartButtonEl =\n",
              "        document.querySelector('#' + key + ' button');\n",
              "      quickchartButtonEl.disabled = true;  // To prevent multiple clicks.\n",
              "      quickchartButtonEl.classList.add('colab-df-spinner');\n",
              "      try {\n",
              "        const charts = await google.colab.kernel.invokeFunction(\n",
              "            'suggestCharts', [key], {});\n",
              "      } catch (error) {\n",
              "        console.error('Error during call to suggestCharts:', error);\n",
              "      }\n",
              "      quickchartButtonEl.classList.remove('colab-df-spinner');\n",
              "      quickchartButtonEl.classList.add('colab-df-quickchart-complete');\n",
              "    }\n",
              "    (() => {\n",
              "      let quickchartButtonEl =\n",
              "        document.querySelector('#df-d06b359d-4c27-4825-8de6-fbb852d39c90 button');\n",
              "      quickchartButtonEl.style.display =\n",
              "        google.colab.kernel.accessAllowed ? 'block' : 'none';\n",
              "    })();\n",
              "  </script>\n",
              "</div>\n",
              "    </div>\n",
              "  </div>\n"
            ]
          },
          "metadata": {},
          "execution_count": 5
        }
      ]
    },
    {
      "cell_type": "code",
      "source": [
        "print(dataset.describe())"
      ],
      "metadata": {
        "id": "xU6QCitlhmu-",
        "outputId": "2900190d-b258-46ee-de00-90839212a36e",
        "colab": {
          "base_uri": "https://localhost:8080/"
        }
      },
      "execution_count": 6,
      "outputs": [
        {
          "output_type": "stream",
          "name": "stdout",
          "text": [
            "       L4 mean mark  Did formative assessment  Submitted  Plagiarism  \\\n",
            "count     60.000000                 60.000000  60.000000   60.000000   \n",
            "mean      71.583333                  0.300000   0.766667    0.100000   \n",
            "std       10.817894                  0.462125   0.426522    0.302532   \n",
            "min       48.000000                  0.000000   0.000000    0.000000   \n",
            "25%       65.000000                  0.000000   1.000000    0.000000   \n",
            "50%       71.500000                  0.000000   1.000000    0.000000   \n",
            "75%       77.250000                  1.000000   1.000000    0.000000   \n",
            "max       93.000000                  1.000000   1.000000    1.000000   \n",
            "\n",
            "       VLE content visited  Lecture engagement  Lab engagement  Code mark  \\\n",
            "count            60.000000           60.000000       60.000000  60.000000   \n",
            "mean              0.357000            0.590000        0.360833  12.700000   \n",
            "std               0.201404            0.322438        0.289519  11.119231   \n",
            "min               0.000000            0.000000        0.000000   0.000000   \n",
            "25%               0.272500            0.250000        0.100000   0.000000   \n",
            "50%               0.340000            0.750000        0.300000  11.000000   \n",
            "75%               0.412500            0.862500        0.500000  23.000000   \n",
            "max               1.000000            1.000000        1.000000  30.000000   \n",
            "\n",
            "       Report mark  Total mark      Class  \n",
            "count    60.000000   60.000000  60.000000  \n",
            "mean     31.800000   44.500000   0.500000  \n",
            "std      24.778203   34.374064   0.504219  \n",
            "min       0.000000    0.000000   0.000000  \n",
            "25%       5.000000    9.500000   0.000000  \n",
            "50%      33.500000   43.000000   0.500000  \n",
            "75%      55.500000   78.500000   1.000000  \n",
            "max      70.000000  100.000000   1.000000  \n"
          ]
        }
      ]
    },
    {
      "cell_type": "markdown",
      "source": [],
      "metadata": {
        "id": "2DbA7ipqhmDh"
      }
    },
    {
      "cell_type": "markdown",
      "metadata": {
        "id": "agx7f1NDQ-QF"
      },
      "source": [
        "## Matplotlib"
      ]
    },
    {
      "cell_type": "code",
      "execution_count": 7,
      "metadata": {
        "id": "nUM73mfvQ-QG",
        "outputId": "4abd90f1-8b45-438d-dc61-55dacd8fe9bc",
        "colab": {
          "base_uri": "https://localhost:8080/",
          "height": 452
        }
      },
      "outputs": [
        {
          "output_type": "display_data",
          "data": {
            "text/plain": [
              "<Figure size 640x480 with 1 Axes>"
            ],
            "image/png": "[encoded data removed]"
          },
          "metadata": {}
        }
      ],
      "source": [
        "dataset['L4 mean mark'].plot(kind='hist', title='Level 4 mean mark distribution');"
      ]
    },
    {
      "cell_type": "code",
      "source": [
        "dataset.plot(kind='scatter', x='L4 mean mark', y='Total mark', title='Level 4 mean mark vs unit mark');\n"
      ],
      "metadata": {
        "id": "p6HVLrDkh_sJ",
        "outputId": "b47fc01a-b259-4ccf-9d4c-b407c043fc82",
        "colab": {
          "base_uri": "https://localhost:8080/",
          "height": 472
        }
      },
      "execution_count": 8,
      "outputs": [
        {
          "output_type": "display_data",
          "data": {
            "text/plain": [
              "<Figure size 640x480 with 1 Axes>"
            ],
            "image/png": "[encoded data removed]"
          },
          "metadata": {}
        }
      ]
    },
    {
      "cell_type": "code",
      "source": [
        "dataset['Class'].value_counts().plot(kind='bar', title='Class distribution');"
      ],
      "metadata": {
        "id": "DN6OC8TSiI_Z",
        "outputId": "822837f0-4ac2-477e-d5b3-df6b34aa45d2",
        "colab": {
          "base_uri": "https://localhost:8080/",
          "height": 447
        }
      },
      "execution_count": 9,
      "outputs": [
        {
          "output_type": "display_data",
          "data": {
            "text/plain": [
              "<Figure size 640x480 with 1 Axes>"
            ],
            "image/png": "[encoded data removed]"
          },
          "metadata": {}
        }
      ]
    },
    {
      "cell_type": "markdown",
      "metadata": {
        "id": "VIm4TiuMQ-QH"
      },
      "source": [
        "## Exploratory Data Analysis\n",
        "\n",
        "Some of the cells below already got code doing things for you.\n",
        "\n",
        "Some cells are empty for you to do _stuff_ in to **answer questions**!\n",
        "\n",
        "See lab task notes for the list of questions if you want to see them all in one place."
      ]
    },
    {
      "cell_type": "markdown",
      "metadata": {
        "id": "01wwBbbkQ-QH"
      },
      "source": [
        "### Loading the dataset\n",
        "\n",
        "First, we load the dataset, then we can execute various functions to explore the data, calculate statistics and plot graphs."
      ]
    },
    {
      "cell_type": "code",
      "execution_count": 7,
      "metadata": {
        "ExecuteTime": {
          "end_time": "2021-10-04T15:00:04.732125Z",
          "start_time": "2021-10-04T15:00:04.334215Z"
        },
        "id": "l9qa84ijQ-QI",
        "outputId": "53512ee4-3971-4629-8e8e-217aa1b0724b",
        "colab": {
          "base_uri": "https://localhost:8080/",
          "height": 206
        }
      },
      "outputs": [
        {
          "output_type": "execute_result",
          "data": {
            "text/plain": [
              "   L4 mean mark  Did formative assessment  Submitted  Plagiarism  \\\n",
              "0            87                         0          1           0   \n",
              "1            83                         1          1           0   \n",
              "2            75                         0          1           0   \n",
              "3            77                         1          1           0   \n",
              "4            65                         0          1           1   \n",
              "\n",
              "   VLE content visited  Lecture engagement  Lab engagement Classifier impl  \\\n",
              "0                 0.15                0.30            0.20        Ensemble   \n",
              "1                 0.42                0.75            0.50            K-NN   \n",
              "2                 0.38                1.00            0.80        Ensemble   \n",
              "3                 0.80                1.00            0.90        Ensemble   \n",
              "4                 0.34                0.50            0.15            K-NN   \n",
              "\n",
              "   Code mark  Report mark  Total mark  Class  \n",
              "0         10           35          45      1  \n",
              "1         28           68          96      1  \n",
              "2         28           55          83      1  \n",
              "3         30           62          92      1  \n",
              "4          0           35          35      0  "
            ],
            "text/html": [
              "\n",
              "  <div id=\"df-0576137b-8e4b-4a1a-af1c-5c3c1eccef28\" class=\"colab-df-container\">\n",
              "    <div>\n",
              "<style scoped>\n",
              "    .dataframe tbody tr th:only-of-type {\n",
              "        vertical-align: middle;\n",
              "    }\n",
              "\n",
              "    .dataframe tbody tr th {\n",
              "        vertical-align: top;\n",
              "    }\n",
              "\n",
              "    .dataframe thead th {\n",
              "        text-align: right;\n",
              "    }\n",
              "</style>\n",
              "<table border=\"1\" class=\"dataframe\">\n",
              "  <thead>\n",
              "    <tr style=\"text-align: right;\">\n",
              "      <th></th>\n",
              "      <th>L4 mean mark</th>\n",
              "      <th>Did formative assessment</th>\n",
              "      <th>Submitted</th>\n",
              "      <th>Plagiarism</th>\n",
              "      <th>VLE content visited</th>\n",
              "      <th>Lecture engagement</th>\n",
              "      <th>Lab engagement</th>\n",
              "      <th>Classifier impl</th>\n",
              "      <th>Code mark</th>\n",
              "      <th>Report mark</th>\n",
              "      <th>Total mark</th>\n",
              "      <th>Class</th>\n",
              "    </tr>\n",
              "  </thead>\n",
              "  <tbody>\n",
              "    <tr>\n",
              "      <th>0</th>\n",
              "      <td>87</td>\n",
              "      <td>0</td>\n",
              "      <td>1</td>\n",
              "      <td>0</td>\n",
              "      <td>0.15</td>\n",
              "      <td>0.30</td>\n",
              "      <td>0.20</td>\n",
              "      <td>Ensemble</td>\n",
              "      <td>10</td>\n",
              "      <td>35</td>\n",
              "      <td>45</td>\n",
              "      <td>1</td>\n",
              "    </tr>\n",
              "    <tr>\n",
              "      <th>1</th>\n",
              "      <td>83</td>\n",
              "      <td>1</td>\n",
              "      <td>1</td>\n",
              "      <td>0</td>\n",
              "      <td>0.42</td>\n",
              "      <td>0.75</td>\n",
              "      <td>0.50</td>\n",
              "      <td>K-NN</td>\n",
              "      <td>28</td>\n",
              "      <td>68</td>\n",
              "      <td>96</td>\n",
              "      <td>1</td>\n",
              "    </tr>\n",
              "    <tr>\n",
              "      <th>2</th>\n",
              "      <td>75</td>\n",
              "      <td>0</td>\n",
              "      <td>1</td>\n",
              "      <td>0</td>\n",
              "      <td>0.38</td>\n",
              "      <td>1.00</td>\n",
              "      <td>0.80</td>\n",
              "      <td>Ensemble</td>\n",
              "      <td>28</td>\n",
              "      <td>55</td>\n",
              "      <td>83</td>\n",
              "      <td>1</td>\n",
              "    </tr>\n",
              "    <tr>\n",
              "      <th>3</th>\n",
              "      <td>77</td>\n",
              "      <td>1</td>\n",
              "      <td>1</td>\n",
              "      <td>0</td>\n",
              "      <td>0.80</td>\n",
              "      <td>1.00</td>\n",
              "      <td>0.90</td>\n",
              "      <td>Ensemble</td>\n",
              "      <td>30</td>\n",
              "      <td>62</td>\n",
              "      <td>92</td>\n",
              "      <td>1</td>\n",
              "    </tr>\n",
              "    <tr>\n",
              "      <th>4</th>\n",
              "      <td>65</td>\n",
              "      <td>0</td>\n",
              "      <td>1</td>\n",
              "      <td>1</td>\n",
              "      <td>0.34</td>\n",
              "      <td>0.50</td>\n",
              "      <td>0.15</td>\n",
              "      <td>K-NN</td>\n",
              "      <td>0</td>\n",
              "      <td>35</td>\n",
              "      <td>35</td>\n",
              "      <td>0</td>\n",
              "    </tr>\n",
              "  </tbody>\n",
              "</table>\n",
              "</div>\n",
              "    <div class=\"colab-df-buttons\">\n",
              "\n",
              "  <div class=\"colab-df-container\">\n",
              "    <button class=\"colab-df-convert\" onclick=\"convertToInteractive('df-0576137b-8e4b-4a1a-af1c-5c3c1eccef28')\"\n",
              "            title=\"Convert this dataframe to an interactive table.\"\n",
              "            style=\"display:none;\">\n",
              "\n",
              "  <svg xmlns=\"http://www.w3.org/2000/svg\" height=\"24px\" viewBox=\"0 -960 960 960\">\n",
              "    <path d=\"M120-120v-720h720v720H120Zm60-500h600v-160H180v160Zm220 220h160v-160H400v160Zm0 220h160v-160H400v160ZM180-400h160v-160H180v160Zm440 0h160v-160H620v160ZM180-180h160v-160H180v160Zm440 0h160v-160H620v160Z\"/>\n",
              "  </svg>\n",
              "    </button>\n",
              "\n",
              "  <style>\n",
              "    .colab-df-container {\n",
              "      display:flex;\n",
              "      gap: 12px;\n",
              "    }\n",
              "\n",
              "    .colab-df-convert {\n",
              "      background-color: #E8F0FE;\n",
              "      border: none;\n",
              "      border-radius: 50%;\n",
              "      cursor: pointer;\n",
              "      display: none;\n",
              "      fill: #1967D2;\n",
              "      height: 32px;\n",
              "      padding: 0 0 0 0;\n",
              "      width: 32px;\n",
              "    }\n",
              "\n",
              "    .colab-df-convert:hover {\n",
              "      background-color: #E2EBFA;\n",
              "      box-shadow: 0px 1px 2px rgba(60, 64, 67, 0.3), 0px 1px 3px 1px rgba(60, 64, 67, 0.15);\n",
              "      fill: #174EA6;\n",
              "    }\n",
              "\n",
              "    .colab-df-buttons div {\n",
              "      margin-bottom: 4px;\n",
              "    }\n",
              "\n",
              "    [theme=dark] .colab-df-convert {\n",
              "      background-color: #3B4455;\n",
              "      fill: #D2E3FC;\n",
              "    }\n",
              "\n",
              "    [theme=dark] .colab-df-convert:hover {\n",
              "      background-color: #434B5C;\n",
              "      box-shadow: 0px 1px 3px 1px rgba(0, 0, 0, 0.15);\n",
              "      filter: drop-shadow(0px 1px 2px rgba(0, 0, 0, 0.3));\n",
              "      fill: #FFFFFF;\n",
              "    }\n",
              "  </style>\n",
              "\n",
              "    <script>\n",
              "      const buttonEl =\n",
              "        document.querySelector('#df-0576137b-8e4b-4a1a-af1c-5c3c1eccef28 button.colab-df-convert');\n",
              "      buttonEl.style.display =\n",
              "        google.colab.kernel.accessAllowed ? 'block' : 'none';\n",
              "\n",
              "      async function convertToInteractive(key) {\n",
              "        const element = document.querySelector('#df-0576137b-8e4b-4a1a-af1c-5c3c1eccef28');\n",
              "        const dataTable =\n",
              "          await google.colab.kernel.invokeFunction('convertToInteractive',\n",
              "                                                    [key], {});\n",
              "        if (!dataTable) return;\n",
              "\n",
              "        const docLinkHtml = 'Like what you see? Visit the ' +\n",
              "          '<a target=\"_blank\" href=https://colab.research.google.com/notebooks/data_table.ipynb>data table notebook</a>'\n",
              "          + ' to learn more about interactive tables.';\n",
              "        element.innerHTML = '';\n",
              "        dataTable['output_type'] = 'display_data';\n",
              "        await google.colab.output.renderOutput(dataTable, element);\n",
              "        const docLink = document.createElement('div');\n",
              "        docLink.innerHTML = docLinkHtml;\n",
              "        element.appendChild(docLink);\n",
              "      }\n",
              "    </script>\n",
              "  </div>\n",
              "\n",
              "\n",
              "<div id=\"df-11a2ca78-0122-4989-8c06-5f4465e264c1\">\n",
              "  <button class=\"colab-df-quickchart\" onclick=\"quickchart('df-11a2ca78-0122-4989-8c06-5f4465e264c1')\"\n",
              "            title=\"Suggest charts.\"\n",
              "            style=\"display:none;\">\n",
              "\n",
              "<svg xmlns=\"http://www.w3.org/2000/svg\" height=\"24px\"viewBox=\"0 0 24 24\"\n",
              "     width=\"24px\">\n",
              "    <g>\n",
              "        <path d=\"M19 3H5c-1.1 0-2 .9-2 2v14c0 1.1.9 2 2 2h14c1.1 0 2-.9 2-2V5c0-1.1-.9-2-2-2zM9 17H7v-7h2v7zm4 0h-2V7h2v10zm4 0h-2v-4h2v4z\"/>\n",
              "    </g>\n",
              "</svg>\n",
              "  </button>\n",
              "\n",
              "<style>\n",
              "  .colab-df-quickchart {\n",
              "      --bg-color: #E8F0FE;\n",
              "      --fill-color: #1967D2;\n",
              "      --hover-bg-color: #E2EBFA;\n",
              "      --hover-fill-color: #174EA6;\n",
              "      --disabled-fill-color: #AAA;\n",
              "      --disabled-bg-color: #DDD;\n",
              "  }\n",
              "\n",
              "  [theme=dark] .colab-df-quickchart {\n",
              "      --bg-color: #3B4455;\n",
              "      --fill-color: #D2E3FC;\n",
              "      --hover-bg-color: #434B5C;\n",
              "      --hover-fill-color: #FFFFFF;\n",
              "      --disabled-bg-color: #3B4455;\n",
              "      --disabled-fill-color: #666;\n",
              "  }\n",
              "\n",
              "  .colab-df-quickchart {\n",
              "    background-color: var(--bg-color);\n",
              "    border: none;\n",
              "    border-radius: 50%;\n",
              "    cursor: pointer;\n",
              "    display: none;\n",
              "    fill: var(--fill-color);\n",
              "    height: 32px;\n",
              "    padding: 0;\n",
              "    width: 32px;\n",
              "  }\n",
              "\n",
              "  .colab-df-quickchart:hover {\n",
              "    background-color: var(--hover-bg-color);\n",
              "    box-shadow: 0 1px 2px rgba(60, 64, 67, 0.3), 0 1px 3px 1px rgba(60, 64, 67, 0.15);\n",
              "    fill: var(--button-hover-fill-color);\n",
              "  }\n",
              "\n",
              "  .colab-df-quickchart-complete:disabled,\n",
              "  .colab-df-quickchart-complete:disabled:hover {\n",
              "    background-color: var(--disabled-bg-color);\n",
              "    fill: var(--disabled-fill-color);\n",
              "    box-shadow: none;\n",
              "  }\n",
              "\n",
              "  .colab-df-spinner {\n",
              "    border: 2px solid var(--fill-color);\n",
              "    border-color: transparent;\n",
              "    border-bottom-color: var(--fill-color);\n",
              "    animation:\n",
              "      spin 1s steps(1) infinite;\n",
              "  }\n",
              "\n",
              "  @keyframes spin {\n",
              "    0% {\n",
              "      border-color: transparent;\n",
              "      border-bottom-color: var(--fill-color);\n",
              "      border-left-color: var(--fill-color);\n",
              "    }\n",
              "    20% {\n",
              "      border-color: transparent;\n",
              "      border-left-color: var(--fill-color);\n",
              "      border-top-color: var(--fill-color);\n",
              "    }\n",
              "    30% {\n",
              "      border-color: transparent;\n",
              "      border-left-color: var(--fill-color);\n",
              "      border-top-color: var(--fill-color);\n",
              "      border-right-color: var(--fill-color);\n",
              "    }\n",
              "    40% {\n",
              "      border-color: transparent;\n",
              "      border-right-color: var(--fill-color);\n",
              "      border-top-color: var(--fill-color);\n",
              "    }\n",
              "    60% {\n",
              "      border-color: transparent;\n",
              "      border-right-color: var(--fill-color);\n",
              "    }\n",
              "    80% {\n",
              "      border-color: transparent;\n",
              "      border-right-color: var(--fill-color);\n",
              "      border-bottom-color: var(--fill-color);\n",
              "    }\n",
              "    90% {\n",
              "      border-color: transparent;\n",
              "      border-bottom-color: var(--fill-color);\n",
              "    }\n",
              "  }\n",
              "</style>\n",
              "\n",
              "  <script>\n",
              "    async function quickchart(key) {\n",
              "      const quickchartButtonEl =\n",
              "        document.querySelector('#' + key + ' button');\n",
              "      quickchartButtonEl.disabled = true;  // To prevent multiple clicks.\n",
              "      quickchartButtonEl.classList.add('colab-df-spinner');\n",
              "      try {\n",
              "        const charts = await google.colab.kernel.invokeFunction(\n",
              "            'suggestCharts', [key], {});\n",
              "      } catch (error) {\n",
              "        console.error('Error during call to suggestCharts:', error);\n",
              "      }\n",
              "      quickchartButtonEl.classList.remove('colab-df-spinner');\n",
              "      quickchartButtonEl.classList.add('colab-df-quickchart-complete');\n",
              "    }\n",
              "    (() => {\n",
              "      let quickchartButtonEl =\n",
              "        document.querySelector('#df-11a2ca78-0122-4989-8c06-5f4465e264c1 button');\n",
              "      quickchartButtonEl.style.display =\n",
              "        google.colab.kernel.accessAllowed ? 'block' : 'none';\n",
              "    })();\n",
              "  </script>\n",
              "</div>\n",
              "    </div>\n",
              "  </div>\n"
            ]
          },
          "metadata": {},
          "execution_count": 7
        }
      ],
      "source": [
        "import pandas as pd\n",
        "\n",
        "dataset = pd.read_csv('data/ml-assessment-dataset.csv')\n",
        "dataset.head()"
      ]
    },
    {
      "cell_type": "markdown",
      "metadata": {
        "id": "YPFiyEupQ-QI"
      },
      "source": [
        "### Exploring the dataset\n",
        "\n",
        "The overall aim for the data exploration here is to get a feel for some of the influences on the machine learning marks for past students.\n",
        "\n",
        "Let's focus on two features for this:\n",
        " * Class (1 = pass, 0 = fail)\n",
        " * Total mark (the total unit mark, range 0-100)\n",
        " * L4 mean mark (to mean mark across all 6 level 4 units)"
      ]
    },
    {
      "cell_type": "markdown",
      "metadata": {
        "id": "vT_pKfPpQ-QJ"
      },
      "source": [
        "#### General information\n",
        "\n",
        "Questions to answer:\n",
        "* How many instances are there in the dataset?\n",
        "60\n",
        "* What is the mean mark (total), including non-submissions?\n",
        "44.5"
      ]
    },
    {
      "cell_type": "code",
      "execution_count": 8,
      "metadata": {
        "ExecuteTime": {
          "end_time": "2021-10-04T15:00:04.735467Z",
          "start_time": "2021-10-04T15:00:04.733846Z"
        },
        "id": "vlYZpdzxQ-QK",
        "outputId": "4c1ab26a-cc27-46f6-bf9f-44e95f06125a",
        "colab": {
          "base_uri": "https://localhost:8080/"
        }
      },
      "outputs": [
        {
          "output_type": "stream",
          "name": "stdout",
          "text": [
            "<class 'pandas.core.frame.DataFrame'>\n",
            "RangeIndex: 60 entries, 0 to 59\n",
            "Data columns (total 12 columns):\n",
            " #   Column                    Non-Null Count  Dtype  \n",
            "---  ------                    --------------  -----  \n",
            " 0   L4 mean mark              60 non-null     int64  \n",
            " 1   Did formative assessment  60 non-null     int64  \n",
            " 2   Submitted                 60 non-null     int64  \n",
            " 3   Plagiarism                60 non-null     int64  \n",
            " 4   VLE content visited       60 non-null     float64\n",
            " 5   Lecture engagement        60 non-null     float64\n",
            " 6   Lab engagement            60 non-null     float64\n",
            " 7   Classifier impl           46 non-null     object \n",
            " 8   Code mark                 60 non-null     int64  \n",
            " 9   Report mark               60 non-null     int64  \n",
            " 10  Total mark                60 non-null     int64  \n",
            " 11  Class                     60 non-null     int64  \n",
            "dtypes: float64(3), int64(8), object(1)\n",
            "memory usage: 5.8+ KB\n",
            "None\n",
            "       L4 mean mark  Did formative assessment  Submitted  Plagiarism  \\\n",
            "count     60.000000                 60.000000  60.000000   60.000000   \n",
            "mean      71.583333                  0.300000   0.766667    0.100000   \n",
            "std       10.817894                  0.462125   0.426522    0.302532   \n",
            "min       48.000000                  0.000000   0.000000    0.000000   \n",
            "25%       65.000000                  0.000000   1.000000    0.000000   \n",
            "50%       71.500000                  0.000000   1.000000    0.000000   \n",
            "75%       77.250000                  1.000000   1.000000    0.000000   \n",
            "max       93.000000                  1.000000   1.000000    1.000000   \n",
            "\n",
            "       VLE content visited  Lecture engagement  Lab engagement  Code mark  \\\n",
            "count            60.000000           60.000000       60.000000  60.000000   \n",
            "mean              0.357000            0.590000        0.360833  12.700000   \n",
            "std               0.201404            0.322438        0.289519  11.119231   \n",
            "min               0.000000            0.000000        0.000000   0.000000   \n",
            "25%               0.272500            0.250000        0.100000   0.000000   \n",
            "50%               0.340000            0.750000        0.300000  11.000000   \n",
            "75%               0.412500            0.862500        0.500000  23.000000   \n",
            "max               1.000000            1.000000        1.000000  30.000000   \n",
            "\n",
            "       Report mark  Total mark      Class  \n",
            "count    60.000000   60.000000  60.000000  \n",
            "mean     31.800000   44.500000   0.500000  \n",
            "std      24.778203   34.374064   0.504219  \n",
            "min       0.000000    0.000000   0.000000  \n",
            "25%       5.000000    9.500000   0.000000  \n",
            "50%      33.500000   43.000000   0.500000  \n",
            "75%      55.500000   78.500000   1.000000  \n",
            "max      70.000000  100.000000   1.000000  \n"
          ]
        }
      ],
      "source": [
        "# TODO: answer the two questions with the following functions\n",
        "# .info()\n",
        "# .describe()\n",
        "print(dataset.info())\n",
        "print(dataset.describe())\n"
      ]
    },
    {
      "cell_type": "markdown",
      "metadata": {
        "id": "tCJ11b19Q-QK"
      },
      "source": [
        "#### Class (pass/fail) analysis\n",
        "\n",
        "Questions to answer:\n",
        "* Is the class balance equal?\n",
        "* Which class is the MOST represented in the dataset?\n",
        "* How many students passed?"
      ]
    },
    {
      "cell_type": "code",
      "execution_count": 9,
      "metadata": {
        "ExecuteTime": {
          "end_time": "2021-10-04T15:00:04.739764Z",
          "start_time": "2021-10-04T15:00:04.737571Z"
        },
        "id": "Ovt_PDpHQ-QL",
        "outputId": "cdf89582-69f3-4d71-a3cb-fc6088868fbd",
        "colab": {
          "base_uri": "https://localhost:8080/"
        }
      },
      "outputs": [
        {
          "output_type": "stream",
          "name": "stdout",
          "text": [
            "1    30\n",
            "0    30\n",
            "Name: Class, dtype: int64\n"
          ]
        }
      ],
      "source": [
        "# TODO: NUMERIC OUTPUT FOR CLASS BALANCE (NUMBER OF VALUES/INSTANCES FOR EACH CLASS)\n",
        "print(dataset['Class'].value_counts())"
      ]
    },
    {
      "cell_type": "code",
      "execution_count": 10,
      "metadata": {
        "ExecuteTime": {
          "end_time": "2021-10-04T15:00:04.743469Z",
          "start_time": "2021-10-04T15:00:04.741988Z"
        },
        "id": "HXzZKAIXQ-QL",
        "outputId": "2813d2b1-b7a5-48ff-cb29-f4aff5a2c3b6",
        "colab": {
          "base_uri": "https://localhost:8080/",
          "height": 447
        }
      },
      "outputs": [
        {
          "output_type": "display_data",
          "data": {
            "text/plain": [
              "<Figure size 640x480 with 1 Axes>"
            ],
            "image/png": "[encoded data removed]"
          },
          "metadata": {}
        }
      ],
      "source": [
        "# TODO: CHART FOR CLASS DISTRIBUTION\n",
        "dataset['Class'].value_counts().plot(kind='bar', title='Class distribution');"
      ]
    },
    {
      "cell_type": "markdown",
      "metadata": {
        "id": "oxgpOX-0Q-QL"
      },
      "source": [
        "#### Mark analysis\n",
        "\n",
        "Questions to answer:\n",
        "\n",
        "* What is the mean mark (total), including non-submissions?\n",
        "* What is the mean mark (total), excluding non-submissions?\n",
        "* What is the mean level 4 mark for the students who passed?\n",
        "* What is the mean level 4 mark for the students who failed?"
      ]
    },
    {
      "cell_type": "code",
      "execution_count": 11,
      "metadata": {
        "id": "HIicdsEkQ-QL",
        "outputId": "f33f4080-e8b5-4970-9952-a5d556fa100f",
        "colab": {
          "base_uri": "https://localhost:8080/"
        }
      },
      "outputs": [
        {
          "output_type": "stream",
          "name": "stdout",
          "text": [
            "44.5\n"
          ]
        }
      ],
      "source": [
        "# To get the mean of a specific feature/column, you can use this format:\n",
        "#   dataset['COLUMN_NAME'].mean()\n",
        "print(dataset['Total mark'].mean())\n"
      ]
    },
    {
      "cell_type": "code",
      "execution_count": 18,
      "metadata": {
        "ExecuteTime": {
          "end_time": "2021-10-04T15:00:04.881199Z",
          "start_time": "2021-10-04T15:00:04.748755Z"
        },
        "id": "akYKAJaXQ-QM",
        "outputId": "8745ceb6-14e5-41cf-c18c-fd09ad767d9f",
        "colab": {
          "base_uri": "https://localhost:8080/"
        }
      },
      "outputs": [
        {
          "output_type": "stream",
          "name": "stdout",
          "text": [
            "58.04347826086956\n",
            "14.433333333333334\n",
            "74.56666666666666\n"
          ]
        }
      ],
      "source": [
        "# Have a go at using one of these functions for the first 2 questions\n",
        "#\n",
        "#    dataset['COLUMN_NAME_FOR_THE_VALUES_YOU_WANT'][dataset['COLUMN_NAME_TO_FILTER_BY'] == FILTER_VALUE_YOU_WANT].mean()\n",
        "#    dataset.groupby('COLUMN_NAME_TO_GROUP_BY')['COLUMN_NAME_FOR_THE_VALUES_YOU_WANT'].mean()\n",
        "#\n",
        "# For example, the following would print out the mean age of ANYBODY (female and male) without heart diseas\n",
        "#\n",
        "#    print(dataset['Total mark'][dataset['Class'] == 0].mean())\n",
        "#    print(dataset.groupby('Class')['Total mark'].mean())\n",
        "#\n",
        "# In the examples above, you want to find out the mean ages for genders, not the class (for the first 2 questions)\n",
        "# Remember, column names are case sensitive\n",
        "\n",
        "# TODO: Mean mark for those submitted (excluding non-submissions)\n",
        "print(dataset['Total mark'][dataset['Total mark'] != 0].mean())\n",
        "\n",
        "# TODO: Mean level 4 mark for those students who passed vs failed\n",
        "print(dataset['Total mark'][dataset['Class'] == 0].mean())\n",
        "print(dataset['Total mark'][dataset['Class'] == 1].mean())"
      ]
    },
    {
      "cell_type": "markdown",
      "metadata": {
        "id": "tJspWYpmQ-QM"
      },
      "source": [
        "## Analysis of Anscombe's Quartet\n",
        "\n",
        "There are many ways you can play around with the data and have a look at it, e.g.,\n",
        "\n",
        "1. a hardcoded approach using numpy and matplotlib\n",
        "2. an approach using pandas and reading directly from Excel\n",
        "\n",
        "The example code below uses option 1 just to keep it simpler here."
      ]
    },
    {
      "cell_type": "code",
      "execution_count": null,
      "metadata": {
        "ExecuteTime": {
          "end_time": "2021-10-04T15:00:04.886337Z",
          "start_time": "2021-10-04T15:00:04.348Z"
        },
        "id": "EGMiJdGNQ-QM"
      },
      "outputs": [],
      "source": [
        "import numpy as np\n",
        "from scipy import stats\n",
        "from numpy.polynomial.polynomial import polyfit\n",
        "import matplotlib.pyplot as plt\n",
        "\n",
        "# Anscombe's 1st dataset\n",
        "x1 = np.array([10, 8, 13, 9, 11, 14, 6, 4, 12, 7, 5])\n",
        "y1 = np.array([8.04, 6.95, 7.58, 8.81, 8.33, 9.96, 7.24, 4.26, 10.84, 4.82, 5.68])\n",
        "\n",
        "# Anscombe's 2nd dataset\n",
        "x2 = np.array([10, 8, 13, 9, 11, 14, 6, 4, 12, 7, 5])\n",
        "y2 = np.array([9.14, 8.14, 8.74, 8.77, 9.26, 8.1, 6.13, 3.1, 9.13, 7.26, 4.74])\n",
        "\n",
        "# TODO: Anscombe's 3rd dataset\n",
        "\n",
        "\n",
        "# TODO: Anscombe's 4th dataset\n",
        "\n"
      ]
    },
    {
      "cell_type": "markdown",
      "metadata": {
        "id": "3s5Cpi9dQ-QN"
      },
      "source": [
        "### Print out the stats\n",
        "\n",
        "* mean\n",
        "* median\n",
        "* mode\n",
        "* variance\n",
        "* standard deviation"
      ]
    },
    {
      "cell_type": "code",
      "execution_count": null,
      "metadata": {
        "ExecuteTime": {
          "end_time": "2021-10-04T15:00:04.887267Z",
          "start_time": "2021-10-04T15:00:04.351Z"
        },
        "id": "MsRqgsQLQ-QO"
      },
      "outputs": [],
      "source": [
        "print(\"Anscombe stats\\n\")\n",
        "# TODO (using Numpy and SciPy)\n",
        "\n"
      ]
    },
    {
      "cell_type": "markdown",
      "metadata": {
        "id": "v9DfxmF0Q-QO"
      },
      "source": [
        "### Plot regression lines\n",
        "\n",
        "This is more challenging, but you can use the following code as the basis for:\n",
        "\n",
        "* Calculate/create regression lines for the 3rd and 4th datasets (that you added above)\n",
        "* Change the subplot configuration to a 2 x 2 grid (currently 1 x 2)\n",
        "* Plot the 3rd and 4th datasets (as subplots with the 1st and 2nd datasets)\n",
        "\n",
        "**REFLECT** on the stats above and what you see in the images."
      ]
    },
    {
      "cell_type": "code",
      "execution_count": null,
      "metadata": {
        "ExecuteTime": {
          "end_time": "2021-10-04T15:00:04.888470Z",
          "start_time": "2021-10-04T15:00:04.353Z"
        },
        "id": "og8fHb7RQ-QO"
      },
      "outputs": [],
      "source": [
        "# Linear regression lines\n",
        "b1, m1 = polyfit(x1, y1, 1)\n",
        "b2, m2 = polyfit(x2, y2, 1)\n",
        "\n",
        "# Setting up figure with two sub-plots\n",
        "fig, axs = plt.subplots(1, 2, figsize=(16, 6), sharey=True)\n",
        "fig.suptitle(\"Anscombe's Quartet\")\n",
        "\n",
        "# Adding figure for Ans-1\n",
        "axs[0].plot(x1, y1, '.')\n",
        "axs[0].plot(x1, b1 + m1 * x1, '-')\n",
        "axs[0].set_xlabel('x')\n",
        "axs[0].set_ylabel('y')\n",
        "\n",
        "# Adding figure for Ans-2\n",
        "axs[1].plot(x2, y2, '.')\n",
        "axs[1].plot(x2, b2 + m2 * x2, '-')\n",
        "axs[0].set_xlabel('x')\n",
        "axs[0].set_ylabel('y')"
      ]
    },
    {
      "cell_type": "code",
      "execution_count": null,
      "metadata": {
        "id": "MPEmxQOwQ-QO"
      },
      "outputs": [],
      "source": []
    }
  ],
  "metadata": {
    "kernelspec": {
      "display_name": "Python 3 (ipykernel)",
      "language": "python",
      "name": "python3"
    },
    "language_info": {
      "codemirror_mode": {
        "name": "ipython",
        "version": 3
      },
      "file_extension": ".py",
      "mimetype": "text/x-python",
      "name": "python",
      "nbconvert_exporter": "python",
      "pygments_lexer": "ipython3",
      "version": "3.11.1"
    },
    "toc": {
      "base_numbering": 1,
      "nav_menu": {},
      "number_sections": true,
      "sideBar": true,
      "skip_h1_title": false,
      "title_cell": "Table of Contents",
      "title_sidebar": "Contents",
      "toc_cell": false,
      "toc_position": {},
      "toc_section_display": true,
      "toc_window_display": true
    },
    "varInspector": {
      "cols": {
        "lenName": 16,
        "lenType": 16,
        "lenVar": 40
      },
      "kernels_config": {
        "python": {
          "delete_cmd_postfix": "",
          "delete_cmd_prefix": "del ",
          "library": "var_list.py",
          "varRefreshCmd": "print(var_dic_list())"
        },
        "r": {
          "delete_cmd_postfix": ") ",
          "delete_cmd_prefix": "rm(",
          "library": "var_list.r",
          "varRefreshCmd": "cat(var_dic_list()) "
        }
      },
      "types_to_exclude": [
        "module",
        "function",
        "builtin_function_or_method",
        "instance",
        "_Feature"
      ],
      "window_display": false
    },
    "colab": {
      "provenance": []
    }
  },
  "nbformat": 4,
  "nbformat_minor": 0
}